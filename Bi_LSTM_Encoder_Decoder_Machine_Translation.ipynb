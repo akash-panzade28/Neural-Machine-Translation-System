{
  "nbformat": 4,
  "nbformat_minor": 0,
  "metadata": {
    "colab": {
      "name": "Bi-LSTM Encoder Decoder Machine Translation.ipynb",
      "provenance": [],
      "collapsed_sections": [
        "S7VDEvfmIAPS",
        "ZNWYI2obIFZc",
        "MDnR2nUCHb4_",
        "f24KZOsvGp12",
        "dcoUaXF2GfLS",
        "8Ryl3H1SGzrP",
        "PWTmNfvZsBJv",
        "Csufp8f2008E",
        "jDqfv6ib1FUP",
        "VDvHzDY0FuM_",
        "hOgyf-_WF5jh",
        "ZPbRi_Tku3S0",
        "NuljWM6reNH2",
        "oQHcluW0jZQv",
        "6OkCnGrTE-7_",
        "W9I46LWHECSW",
        "0iwG1Sm3Eizg",
        "3RQas7JcD3lR",
        "aYmWl7rqSaiO",
        "jgG5luB6DfS3",
        "5roytWaTDIVi"
      ],
      "include_colab_link": true
    },
    "kernelspec": {
      "name": "python3",
      "display_name": "Python 3"
    },
    "language_info": {
      "name": "python"
    },
    "accelerator": "GPU"
  },
  "cells": [
    {
      "cell_type": "markdown",
      "metadata": {
        "id": "view-in-github",
        "colab_type": "text"
      },
      "source": [
        "<a href=\"https://colab.research.google.com/github/Ayush-mishra300840/Machine-translation-Hindi-to-English/blob/main/Bi_LSTM_Encoder_Decoder_Machine_Translation.ipynb\" target=\"_parent\"><img src=\"https://colab.research.google.com/assets/colab-badge.svg\" alt=\"Open In Colab\"/></a>"
      ]
    },
    {
      "cell_type": "markdown",
      "metadata": {
        "id": "S7VDEvfmIAPS"
      },
      "source": [
        "# ***NOTE:***"
      ]
    },
    {
      "cell_type": "markdown",
      "metadata": {
        "id": "zl5qNkBQpFK3"
      },
      "source": [
        "In this phase, I have implemented Bi-LSTM for that I have refered to [***PyTorch Documentation***](https://pytorch.org/tutorials/intermediate/seq2seq_translation_tutorial.html) for implemntation level and [***Machine Translation and Sequence to Sequence Models CMU CS 11-731 FALL 2018***](http://www.phontron.com/class/mtandseq2seq2018/schedule.html#) currently I am learning too from this reference and for resolving errors and other stuff I have used ***StackoverFlow***"
      ]
    },
    {
      "cell_type": "markdown",
      "metadata": {
        "id": "ZNWYI2obIFZc"
      },
      "source": [
        "# ***Checking GPU***"
      ]
    },
    {
      "cell_type": "code",
      "metadata": {
        "colab": {
          "base_uri": "https://localhost:8080/"
        },
        "id": "8XCTQAitCvir",
        "outputId": "619f3630-272f-4fcf-98fc-9c1d6d41bd80"
      },
      "source": [
        "!nvidia-smi"
      ],
      "execution_count": null,
      "outputs": [
        {
          "output_type": "stream",
          "text": [
            "Tue May  4 17:07:28 2021       \n",
            "+-----------------------------------------------------------------------------+\n",
            "| NVIDIA-SMI 465.19.01    Driver Version: 460.32.03    CUDA Version: 11.2     |\n",
            "|-------------------------------+----------------------+----------------------+\n",
            "| GPU  Name        Persistence-M| Bus-Id        Disp.A | Volatile Uncorr. ECC |\n",
            "| Fan  Temp  Perf  Pwr:Usage/Cap|         Memory-Usage | GPU-Util  Compute M. |\n",
            "|                               |                      |               MIG M. |\n",
            "|===============================+======================+======================|\n",
            "|   0  Tesla T4            Off  | 00000000:00:04.0 Off |                    0 |\n",
            "| N/A   40C    P8     9W /  70W |      0MiB / 15109MiB |      0%      Default |\n",
            "|                               |                      |                  N/A |\n",
            "+-------------------------------+----------------------+----------------------+\n",
            "                                                                               \n",
            "+-----------------------------------------------------------------------------+\n",
            "| Processes:                                                                  |\n",
            "|  GPU   GI   CI        PID   Type   Process name                  GPU Memory |\n",
            "|        ID   ID                                                   Usage      |\n",
            "|=============================================================================|\n",
            "|  No running processes found                                                 |\n",
            "+-----------------------------------------------------------------------------+\n"
          ],
          "name": "stdout"
        }
      ]
    },
    {
      "cell_type": "markdown",
      "metadata": {
        "id": "MDnR2nUCHb4_"
      },
      "source": [
        "#***Importing Different Libraries***\n"
      ]
    },
    {
      "cell_type": "code",
      "metadata": {
        "id": "Jak7UrpkC0F3"
      },
      "source": [
        "import torch\n",
        "import torch.nn as nn\n",
        "from torch import optim\n",
        "import torch.nn.functional as F\n",
        "import numpy as np\n",
        "import string\n",
        "from string import digits\n",
        "from sklearn.utils import shuffle\n",
        "from sklearn.model_selection import train_test_split\n",
        "\n",
        "from numpy import array, argmax\n",
        "from numpy.random import rand, shuffle\n",
        "import scipy\n",
        "import sklearn\n",
        "from io import open\n",
        "import unicodedata\n",
        "import random\n",
        "import math\n",
        "import time\n",
        "import os\n",
        "import csv\n",
        "import nltk\n",
        "\n",
        "import time\n",
        "import re\n",
        "import sys\n",
        "from unicodedata import normalize\n",
        "from numpy import array\n",
        "from pickle import dump, load\n",
        "\n",
        "device = torch.device(\"cuda\" if torch.cuda.is_available() else \"cpu\")\n"
      ],
      "execution_count": null,
      "outputs": []
    },
    {
      "cell_type": "markdown",
      "metadata": {
        "id": "f24KZOsvGp12"
      },
      "source": [
        "#***Importing NLTK***\n"
      ]
    },
    {
      "cell_type": "code",
      "metadata": {
        "colab": {
          "base_uri": "https://localhost:8080/"
        },
        "id": "VC02dqOIA6WP",
        "outputId": "06044dfa-89fc-41d1-ebe8-e2a45469cac8"
      },
      "source": [
        "nltk.download('punkt', quiet=True)"
      ],
      "execution_count": null,
      "outputs": [
        {
          "output_type": "execute_result",
          "data": {
            "text/plain": [
              "True"
            ]
          },
          "metadata": {
            "tags": []
          },
          "execution_count": 3
        }
      ]
    },
    {
      "cell_type": "markdown",
      "metadata": {
        "id": "dcoUaXF2GfLS"
      },
      "source": [
        "#***Importing INDICNLP***\n"
      ]
    },
    {
      "cell_type": "code",
      "metadata": {
        "colab": {
          "base_uri": "https://localhost:8080/"
        },
        "id": "pjop0NPzA9KM",
        "outputId": "3ec41a94-75f3-4cdd-cf71-ebc77e59deb4"
      },
      "source": [
        "!git clone \"https://github.com/anoopkunchukuttan/indic_nlp_library\"\n",
        "!git clone https://github.com/anoopkunchukuttan/indic_nlp_resources.git\n",
        "!pip install Morfessor\n",
        "#The path to the local git repo for Indic NLP library\n",
        "INDIC_NLP_LIB_HOME=r\"/content/indic_nlp_library\"\n",
        "\n",
        "# The path to the local git repo for Indic NLP Resources\n",
        "INDIC_NLP_RESOURCES=r\"/content/indic_nlp_resources\""
      ],
      "execution_count": null,
      "outputs": [
        {
          "output_type": "stream",
          "text": [
            "Cloning into 'indic_nlp_library'...\n",
            "remote: Enumerating objects: 1271, done.\u001b[K\n",
            "remote: Counting objects: 100% (93/93), done.\u001b[K\n",
            "remote: Compressing objects: 100% (68/68), done.\u001b[K\n",
            "remote: Total 1271 (delta 50), reused 54 (delta 25), pack-reused 1178\u001b[K\n",
            "Receiving objects: 100% (1271/1271), 9.56 MiB | 14.43 MiB/s, done.\n",
            "Resolving deltas: 100% (654/654), done.\n",
            "Cloning into 'indic_nlp_resources'...\n",
            "remote: Enumerating objects: 133, done.\u001b[K\n",
            "remote: Counting objects: 100% (7/7), done.\u001b[K\n",
            "remote: Compressing objects: 100% (7/7), done.\u001b[K\n",
            "remote: Total 133 (delta 0), reused 2 (delta 0), pack-reused 126\u001b[K\n",
            "Receiving objects: 100% (133/133), 149.77 MiB | 39.21 MiB/s, done.\n",
            "Resolving deltas: 100% (51/51), done.\n",
            "Collecting Morfessor\n",
            "  Downloading https://files.pythonhosted.org/packages/39/e6/7afea30be2ee4d29ce9de0fa53acbb033163615f849515c0b1956ad074ee/Morfessor-2.0.6-py3-none-any.whl\n",
            "Installing collected packages: Morfessor\n",
            "Successfully installed Morfessor-2.0.6\n"
          ],
          "name": "stdout"
        }
      ]
    },
    {
      "cell_type": "code",
      "metadata": {
        "id": "Zwj5pWnyBD5J"
      },
      "source": [
        "import sys\n",
        "sys.path.append(r'{}'.format(INDIC_NLP_LIB_HOME))\n",
        "from indicnlp import common\n",
        "common.set_resources_path(INDIC_NLP_RESOURCES)\n",
        "from indicnlp import loader\n",
        "loader.load()"
      ],
      "execution_count": null,
      "outputs": []
    },
    {
      "cell_type": "code",
      "metadata": {
        "id": "hIwodbFTBI0W"
      },
      "source": [
        "\n",
        "from indicnlp.normalize.indic_normalize import IndicNormalizerFactory\n",
        "from indicnlp.tokenize import indic_tokenize\n",
        "from indicnlp.normalize.indic_normalize import BaseNormalizer\n"
      ],
      "execution_count": null,
      "outputs": []
    },
    {
      "cell_type": "markdown",
      "metadata": {
        "id": "8Ryl3H1SGzrP"
      },
      "source": [
        "#***Mounting Google Drive***\n"
      ]
    },
    {
      "cell_type": "code",
      "metadata": {
        "colab": {
          "base_uri": "https://localhost:8080/"
        },
        "id": "u6PeHybAh9Rr",
        "outputId": "3c9529c8-091d-457d-bf08-0933e6a48c77"
      },
      "source": [
        "from google.colab import drive\n",
        "drive.mount('/content/drive')"
      ],
      "execution_count": null,
      "outputs": [
        {
          "output_type": "stream",
          "text": [
            "Drive already mounted at /content/drive; to attempt to forcibly remount, call drive.mount(\"/content/drive\", force_remount=True).\n"
          ],
          "name": "stdout"
        }
      ]
    },
    {
      "cell_type": "markdown",
      "metadata": {
        "id": "PWTmNfvZsBJv"
      },
      "source": [
        "#***Initialinzing Dictionaries***\n",
        "\n"
      ]
    },
    {
      "cell_type": "markdown",
      "metadata": {
        "id": "NRTNk0u0HYwN"
      },
      "source": [
        "\n",
        "Here I have used 3 dictionary amnd a varible to tell number of words for both hindi and english.\\\n",
        "word2index used for converting each distinct word to index for tensor.\\\n",
        "index2word used for converting each index to word i.e. we have output tensor and we want to convert it into sentence so I use this dictionary for that.\\\n",
        "word2count this dictionary is used for analysis work only i want to know frequency of each word. So, maybe in future this will help me while attention model or decoding.\\\n",
        "hi/en_n_words is varible which is used for count number of word.\\\n",
        "SOS, EOS, PAD are three tokens used for start of sentence, end of sentence, padding. As full form tell about usage of SOS and EOS, So i directly tell why I used PAD sequence here for two usage first in case if model found any word which doesn't have any index in word2index, So I used PAD token and other for future work I am learning how to use  packed padding sequence and masking. Packed padded sequences are used to tell our model to skip over padding tokens in our encoder and masking explicitly forces the model to ignore certain values, such as attention over padded elements. Both of these techniques are commonly used in NLP."
      ]
    },
    {
      "cell_type": "code",
      "metadata": {
        "id": "Zc5hsgHoBK_1"
      },
      "source": [
        "hi_word2index = {\"SOS\": 0, \"EOS\": 1, \"PAD\": 2}\n",
        "hi_word2count = {}\n",
        "hi_index2word = {0: \"SOS\", 1: \"EOS\", 2:\"PAD\"}\n",
        "hi_n_words = 3 \n"
      ],
      "execution_count": null,
      "outputs": []
    },
    {
      "cell_type": "code",
      "metadata": {
        "id": "fcwWD1aYqRsr"
      },
      "source": [
        "en_word2index = {\"SOS\": 0, \"EOS\": 1, \"PAD\": 2}\n",
        "en_word2count = {}\n",
        "en_index2word = {0: \"SOS\", 1: \"EOS\", 2:\"PAD\"}\n",
        "en_n_words = 3 "
      ],
      "execution_count": null,
      "outputs": []
    },
    {
      "cell_type": "code",
      "metadata": {
        "id": "qzjcpootBYII"
      },
      "source": [
        "dataset = []\n",
        "with open('./drive/MyDrive/MT_HtoE/train.csv', 'r') as file:\n",
        "  dataset = np.array([[row[1], row[2]] for row in csv.reader(file)])[1::]"
      ],
      "execution_count": null,
      "outputs": []
    },
    {
      "cell_type": "code",
      "metadata": {
        "id": "-nSZhipMd6N5"
      },
      "source": [
        "def pre_process_hindi_sentence(line):\n",
        "    line=re.sub('[a-zA-Z]', '', line)\n",
        "    line = clean_text(line)\n",
        "    remove_nuktas = False\n",
        "    normalizer = BaseNormalizer(\"hi\", remove_nuktas=False)\n",
        "    line = normalizer.normalize(line)\n",
        "    tokens = list()\n",
        "    for t in indic_tokenize.trivial_tokenize(line):\n",
        "        tokens.append(t)\n",
        "    line = tokens\n",
        "    line = [word for word in line if not re.search(r'\\d', word)]\n",
        "    line = ' '.join(line)\n",
        "    return (line)"
      ],
      "execution_count": null,
      "outputs": []
    },
    {
      "cell_type": "code",
      "metadata": {
        "id": "IsE693s7dx0_"
      },
      "source": [
        "def clean_text(text):\n",
        "    li=[\"'\",\",\",\"(\",\")\",\":\",\"@\",\"\\\\\",\"?\",\"_\",\"'\",'\"',\"|\",\".\",'``','\"',\"-\",\"’’\",\"‘‘\",'\"',\"''\",\"’’\",\"‘‘\",]\n",
        "    for i in range(len(li)):\n",
        "      text= text.replace(li[i],'')\n",
        "    text=re.sub('[0-9+\\-*/.%]', '', text)\n",
        "    text=text.strip()\n",
        "    text=re.sub(' +', ' ',text)\n",
        "    exclude = set(string.punctuation)\n",
        "    text= ''.join(ch for ch in text if ch not in exclude)\n",
        "    return text"
      ],
      "execution_count": null,
      "outputs": []
    },
    {
      "cell_type": "code",
      "metadata": {
        "id": "zc1UtHo-d2u4"
      },
      "source": [
        "def pre_process_english_sentence(line):\n",
        "    line = line.lower()\n",
        "    line = clean_text(line)\n",
        "    re_print = re.compile('[^%s]' % re.escape(string.printable))\n",
        "    line = normalize('NFD', line).encode('ascii', 'ignore')\n",
        "    line = line.decode('UTF-8')\n",
        "    line = line.split()\n",
        "    line = [re_print.sub('', w) for w in line]\n",
        "    line = [word for word in line if word.isalpha()]\n",
        "    line = ' '.join(line)\n",
        "    return line"
      ],
      "execution_count": null,
      "outputs": []
    },
    {
      "cell_type": "markdown",
      "metadata": {
        "id": "Csufp8f2008E"
      },
      "source": [
        "#***Making Vocabulary of Hindi Training DataSet***\n",
        "\n",
        "hi_vocab is list hindi sentences after tokenization and used INDIC NLP for tokenization and update dictionaries and word count"
      ]
    },
    {
      "cell_type": "code",
      "metadata": {
        "id": "Je-2SgV3B1TT"
      },
      "source": [
        "hin_vocab = []\n",
        "\n",
        "for row in dataset:\n",
        "    \n",
        "    # Hindi Sentences:\n",
        "    temp = indic_tokenize.trivial_tokenize(row[0])\n",
        "    hin_vocab += [temp]\n",
        "    \n",
        "    for word in temp:\n",
        "        if word not in hi_word2index.keys():\n",
        "            hi_word2index.update({word: hi_n_words})\n",
        "            hi_index2word.update({hi_n_words: word})\n",
        "            hi_n_words += 1\n"
      ],
      "execution_count": null,
      "outputs": []
    },
    {
      "cell_type": "markdown",
      "metadata": {
        "id": "jDqfv6ib1FUP"
      },
      "source": [
        "#***Making Vocabulary of English Training DataSet***\n",
        "\n",
        "\n",
        "en_vocab is list english sentences after tokenization. I have used NLTK word tokenization because of some error in spacy and update dictionaries and word count"
      ]
    },
    {
      "cell_type": "code",
      "metadata": {
        "id": "eBeKSMd2rBtW"
      },
      "source": [
        "en_vocab = []\n",
        "for row in dataset:\n",
        "  # English Sentences:\n",
        "    temp = nltk.word_tokenize(row[1])\n",
        "    en_vocab += [temp]\n",
        "\n",
        "    for word in temp:\n",
        "        if word not in en_word2index.keys():\n",
        "            en_word2index.update({word: en_n_words})\n",
        "            en_index2word.update({en_n_words: word})\n",
        "            en_n_words += 1"
      ],
      "execution_count": null,
      "outputs": []
    },
    {
      "cell_type": "markdown",
      "metadata": {
        "id": "YFgU1_nn1gEY"
      },
      "source": [
        "hi_max and en_max is variables used for storing maximum length from courpus."
      ]
    },
    {
      "cell_type": "code",
      "metadata": {
        "id": "Vhw_pNrIB49F"
      },
      "source": [
        "hi_max = max([len(l) for l in hin_vocab])\n",
        "en_max = max([len(l) for l in en_vocab])"
      ],
      "execution_count": null,
      "outputs": []
    },
    {
      "cell_type": "code",
      "metadata": {
        "colab": {
          "base_uri": "https://localhost:8080/"
        },
        "id": "ru82vlpb04rR",
        "outputId": "e0c311e3-bf51-47da-c8c5-70fc5bb93cbc"
      },
      "source": [
        "print(en_n_words,hi_n_words,len(hi_index2word.keys()),len(en_index2word.keys()),hi_max,en_max)"
      ],
      "execution_count": null,
      "outputs": [
        {
          "output_type": "stream",
          "text": [
            "40801 46383 46383 40801 596 446\n"
          ],
          "name": "stdout"
        }
      ]
    },
    {
      "cell_type": "code",
      "metadata": {
        "colab": {
          "base_uri": "https://localhost:8080/"
        },
        "id": "nZZCt_RLB7Ax",
        "outputId": "e4136851-5390-492b-9a7e-89f53dfd3dbb"
      },
      "source": [
        "print('Hi-Vocabulary Size:', len(hi_index2word))\n",
        "print('En-Vocabulary Size:', len(en_index2word))\n",
        "MAX_LENGTH=100"
      ],
      "execution_count": null,
      "outputs": [
        {
          "output_type": "stream",
          "text": [
            "Hi-Vocabulary Size: 46383\n",
            "En-Vocabulary Size: 40801\n"
          ],
          "name": "stdout"
        }
      ]
    },
    {
      "cell_type": "markdown",
      "metadata": {
        "id": "VDvHzDY0FuM_"
      },
      "source": [
        "#***Making Tensor Of Hindi Training DataSet***\n"
      ]
    },
    {
      "cell_type": "markdown",
      "metadata": {
        "id": "LNZzMG43283_"
      },
      "source": [
        "hi_train and en_train are lists of tensors for that I have used [***torch.tensor***](https://pytorch.org/docs/stable/tensors.html)\\\n",
        "Here I used all training dataset and convert them into tensors with the help of word2index dictionary and also appended start of sentence and end of sentence"
      ]
    },
    {
      "cell_type": "code",
      "metadata": {
        "id": "tn_qQvUbCCII"
      },
      "source": [
        "hi_train = []\n",
        "\n",
        "for seq in hin_vocab:\n",
        "    word_list = []\n",
        "    for word in seq:\n",
        "        if word in hi_word2index.keys():\n",
        "            word_list += [hi_word2index[word]]\n",
        "        else:\n",
        "            word_list += [hi_word2index[\"PAD\"]]\n",
        "\n",
        "    seq = torch.tensor([hi_word2index[\"SOS\"]] + word_list + [hi_word2index[\"EOS\"]]).to(device)\n",
        "    #converting (m,n) array into (m*n,1) array\n",
        "    hi_train += [seq.reshape(-1, 1)]\n"
      ],
      "execution_count": null,
      "outputs": []
    },
    {
      "cell_type": "markdown",
      "metadata": {
        "id": "hOgyf-_WF5jh"
      },
      "source": [
        "#***Making Tensor Of English Training DataSet***\n"
      ]
    },
    {
      "cell_type": "code",
      "metadata": {
        "id": "jv8sxQsqtNPT"
      },
      "source": [
        "en_train = []\n",
        "\n",
        "for seq in en_vocab:\n",
        "    word_list = []\n",
        "    for word in seq:\n",
        "        if word in en_word2index.keys():\n",
        "            word_list += [en_word2index[word]]\n",
        "        else:\n",
        "            word_list += [en_word2index[\"PAD\"]]\n",
        "\n",
        "    seq = torch.tensor([en_word2index[\"SOS\"]] + word_list + [en_word2index[\"EOS\"]]).to(device)\n",
        "    #converting (m,n) array into (m*n,1) array\n",
        "    en_train += [seq.reshape(-1, 1)]"
      ],
      "execution_count": null,
      "outputs": []
    },
    {
      "cell_type": "code",
      "metadata": {
        "colab": {
          "base_uri": "https://localhost:8080/"
        },
        "id": "v1KiYSNTCENt",
        "outputId": "3780c359-e7c1-42bf-8b02-7c9b9c28bddb"
      },
      "source": [
        "!nvidia-smi"
      ],
      "execution_count": null,
      "outputs": [
        {
          "output_type": "stream",
          "text": [
            "Tue May  4 17:12:29 2021       \n",
            "+-----------------------------------------------------------------------------+\n",
            "| NVIDIA-SMI 465.19.01    Driver Version: 460.32.03    CUDA Version: 11.2     |\n",
            "|-------------------------------+----------------------+----------------------+\n",
            "| GPU  Name        Persistence-M| Bus-Id        Disp.A | Volatile Uncorr. ECC |\n",
            "| Fan  Temp  Perf  Pwr:Usage/Cap|         Memory-Usage | GPU-Util  Compute M. |\n",
            "|                               |                      |               MIG M. |\n",
            "|===============================+======================+======================|\n",
            "|   0  Tesla T4            Off  | 00000000:00:04.0 Off |                    0 |\n",
            "| N/A   37C    P0    26W /  70W |   1154MiB / 15109MiB |      5%      Default |\n",
            "|                               |                      |                  N/A |\n",
            "+-------------------------------+----------------------+----------------------+\n",
            "                                                                               \n",
            "+-----------------------------------------------------------------------------+\n",
            "| Processes:                                                                  |\n",
            "|  GPU   GI   CI        PID   Type   Process name                  GPU Memory |\n",
            "|        ID   ID                                                   Usage      |\n",
            "|=============================================================================|\n",
            "+-----------------------------------------------------------------------------+\n"
          ],
          "name": "stdout"
        }
      ]
    },
    {
      "cell_type": "markdown",
      "metadata": {
        "id": "ZPbRi_Tku3S0"
      },
      "source": [
        "#***Encoder Model***\n",
        "\n",
        "\n"
      ]
    },
    {
      "cell_type": "markdown",
      "metadata": {
        "id": "dNF8tYnxHSjB"
      },
      "source": [
        "\n",
        "Naive implentation of RNN cuases vanishing gradient, So I have used [***Long-Short Term Memory***](https://en.wikipedia.org/wiki/Long_short-term_memory) as a recurrent model. So, for implementing LSTM I have used PyTorch library [***torch.nn.LSTM***](https://pytorch.org/docs/stable/generated/torch.nn.LSTM.html). This module also allows us to use bi-directional sequential processing which allows to know and capture thr backward and forward relation both of a sentence\n",
        "\n",
        "I have used embedding module to convert word indices into dense vector which allows to projecting different words into continuous space for checking the semantical relation in spatial words position. I have done this because I don't have pre-trained word embedding for that I used [***torch.nn.Embedding***](https://pytorch.org/docs/stable/generated/torch.nn.Embedding.html).\\\n",
        "Bi-directional processing will ouput vectors of double size, therefore I tried to reduced output dimensionality I got lot of error due to this problem\n",
        "\n",
        "Dimensionalities:\\\n",
        "input_seq: (batch size, sequence length) i.e. something like an array of sequences of length seq_length, where array length is batch_size.\\\n",
        "embedded (batch size, sequence length, hidden size)\\\n",
        "hidden: (h or c, layers direction, batch, sequence length) here h is hidden state and c is memory in an LSTM cell [*ref*](https://www.quora.com/How-is-the-hidden-state-h-different-from-the-memory-c-in-an-LSTM-cell)\n",
        "h: (num_layers\\*directions, batch_size, hidden_size),\n",
        "c: (num_layers\\*directions, batch_size, hidden_size))"
      ]
    },
    {
      "cell_type": "code",
      "metadata": {
        "id": "aZx_tw5ECHFD"
      },
      "source": [
        "class EncoderModel(torch.nn.Module):\n",
        "    \n",
        "    def __init__(self, input_size, hidden_size, num_layers=1):\n",
        "      # avoid referring to the base class explicitly\n",
        "        super(EncoderModel, self).__init__()\n",
        "        self.hidden_size=hidden_size\n",
        "        self.embedding = torch.nn.Embedding(input_size,hidden_size)\n",
        "        self.rnn = torch.nn.LSTM(hidden_size,hidden_size,num_layers, bidirectional=True)\n",
        "\n",
        "    def forward(self, input_seq, hidden):\n",
        "        embedded = self.embedding(input_seq).view(1, 1, -1)\n",
        "        # hidden output of LSTM\n",
        "        # hidden cell h: (num_layers*directions, batch_size, hidden_size),\n",
        "        # memory cell c: (num_layers*directions, batch_size, hidden_size))\n",
        "        output, hidden = self.rnn(embedded, hidden)\n",
        "        #adding forward layer and backward layer.\n",
        "        output = torch.cat((output[:, :, :hidden_size], output[:, :,hidden_size:]))\n",
        "        return output, hidden\n",
        "\n",
        "    def init_hidden(self):\n",
        "        # we have 2 cells hidden cell and memory cell\n",
        "        \n",
        "        return (torch.zeros( 1* 2, 1,hidden_size, device=torch.device('cuda')),\n",
        "                torch.zeros( 1* 2, 1,hidden_size, device=torch.device('cuda')))"
      ],
      "execution_count": null,
      "outputs": []
    },
    {
      "cell_type": "markdown",
      "metadata": {
        "id": "NuljWM6reNH2"
      },
      "source": [
        "#***Attention Decoder Model***\n"
      ]
    },
    {
      "cell_type": "markdown",
      "metadata": {
        "id": "mr1uUEuBHKZH"
      },
      "source": [
        "\n",
        "I have used Luong Attention model.\n",
        "\n",
        "Attention allows the decoder network to \"focus\" on a different part of the encoder output with each step of the decoder results itself. First I have counted the set of weights of attention. This will be repeated with the sump output vectors to create a weighted compound. Attention calculations are done with another layer of feed transfer, using decoder input and a hidden state such as input. Because there are sentences for all sizes in training data, in order to build and train this layer we must choose the length of the sentence (the length of the insert, the output of the insert) that can work. The longer sentences will use all the attention tools, while the short sentences will only use the first few.\\\n",
        "I have used batch matrix multiplication [***torch.bmm***](https://pytorch.org/docs/stable/generated/torch.bmm.html) for multiplying 3-D tensor and used ReLU [***torch.nn.ReLU***](https://pytorch.org/docs/stable/generated/torch.nn.ReLU.html) as activation fuction and used log_softmax for alignment score for each encoder hidden state.  "
      ]
    },
    {
      "cell_type": "markdown",
      "metadata": {
        "id": "zouMG-4PJNWj"
      },
      "source": [
        "Attention Decoder RNN Model hidden weights are conditioned on encoding of source sequence from encoder. It generates probability distribution on the target vocabulary after applying attention on each time-step![loungattention.JPG](data:image/jpeg;base64,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)\n",
        "ref: https://blog.floydhub.com/attention-mechanism/"
      ]
    },
    {
      "cell_type": "markdown",
      "metadata": {
        "id": "W6cm6ag7ksj_"
      },
      "source": [
        "Steps in Attention model:\n",
        "\n",
        "![Screenshot 2021-04-24 at 17.31.43.png](data:image/png;base64,iVBORw0KGgoAAAANSUhEUgAAAYwAAAHYCAYAAABeJt+rAAAMbWlDQ1BJQ0MgUHJvZmlsZQAASImVVwdYU8kWnluSkJAQIICAlNCbIJ0AUkJoAaQXwUZIAgklxoSgYkcXFVy7iGJFV0UU2wqIHbuyKPa+WFBR1kVdbKi8CQnouq9873zf3PvnzJn/lDuTew8A9A88qTQf1QagQFIoS4wIYY5Kz2CSOgAO6EAHDgaPL5ey4+NjAJSB+9/l3Q2AKO9XnZVc/5z/r6IrEMr5ACBjIM4SyPkFEB8HAF/Ll8oKASAq9VaTCqVKPAtiPRkMEOIVSpyjwtuVOEuFD/fbJCdyIL4MgAaVx5PlAKB1D+qZRfwcyKP1GWJXiUAsAYA+DOJAvogngFgZ+7CCgglKXAmxPbSXQgzjAays7zhz/safNcjP4+UMYlVe/aIRKpZL83lT/s/S/G8pyFcM+LCFgyqSRSYq84c1vJU3IVqJqRB3SbJi45S1hviDWKCqOwAoRaSITFHZoyZ8OQfWDxhA7CrghUZDbAJxuCQ/Nkatz8oWh3MhhrsFnSwu5CZDbAjxfKE8LElts1E2IVHtC63PlnHYav05nqzfr9LXA0VeClvN/0Yk5Kr5Ma1iUXIaxBSIrYvEqbEQa0HsIs9LilbbjCgWcWIHbGSKRGX81hAnCiURISp+rChbFp6oti8rkA/ki20UibmxaryvUJQcqaoPdorP648f5oJdFkrYKQM8QvmomIFcBMLQMFXu2HOhJCVJzfNBWhiSqFqLU6T58Wp73FKYH6HUW0LsKS9KUq/FUwvh5lTx49nSwvhkVZx4cS4vKl4VD74ExAAOCAVMoIAjC0wAuUDc2tXQBX+pZsIBD8hADhACZ7VmYEVa/4wEXpNAMfgDIiGQD64L6Z8VgiKo/zKoVV2dQXb/bFH/ijzwFOICEA3y4W9F/yrJoLdU8ARqxP/wzoODD+PNh0M5/+/1A9pvGjbUxKg1igGPTPqAJTGMGEqMJIYTHXBjPBD3x2PgNRgOd5yF+w7k8c2e8JTQRnhEuE5oJ9weLy6R/RDlSNAO+cPVtcj6vha4LeT0wkPwAMgOmXED3Bg4457QDxsPgp69oJajjltZFeYP3H/L4LunobYju5JR8hByMNn+x5VajlpegyzKWn9fH1WsWYP15gzO/Oif8131BfAe/aMlNh/bj53FTmDnscNYA2Bix7BGrAU7osSDu+tJ/+4a8JbYH08e5BH/wx9P7VNZSblrrWun62fVXKFwcqHy4HEmSKfIxDmiQiYbvh2ETK6E7zKM6e7q7gaA8l2j+vt6m9D/DkEMWr7p5vwOQMCxvr6+Q990UccA2OsDj//Bbzp7FgA6mgCcO8hXyIpUOlx5IcB/CTo8aUbADFgBe5iPO/AG/iAYhIEoEAeSQToYB6ssgvtcBiaBaWA2KAXlYAlYCdaADWAz2A52gX2gARwGJ8AZcBFcBtfBXbh7OsBL0A3egV4EQUgIDWEgRog5YoM4Ie4ICwlEwpAYJBFJRzKRHESCKJBpyBykHFmGrEE2ITXIXuQgcgI5j7Qht5GHSCfyBvmEYigV1UNNUVt0OMpC2Wg0moyORXPQiWgxOhddhFai1ehOtB49gV5Er6Pt6Eu0BwOYJmaAWWDOGAvjYHFYBpaNybAZWBlWgVVjdVgTfM5XsXasC/uIE3EGzsSd4Q6OxFNwPj4Rn4EvxNfg2/F6/BR+FX+Id+NfCTSCCcGJ4EfgEkYRcgiTCKWECsJWwgHCaXiWOgjviESiAdGO6APPYjoxlziVuJC4jribeJzYRnxM7CGRSEYkJ1IAKY7EIxWSSkmrSTtJx0hXSB2kDxqaGuYa7hrhGhkaEo0SjQqNHRpHNa5oPNPoJWuTbch+5DiygDyFvJi8hdxEvkTuIPdSdCh2lABKMiWXMptSSamjnKbco7zV1NS01PTVTNAUa87SrNTco3lO86HmR6ou1ZHKoY6hKqiLqNuox6m3qW9pNJotLZiWQSukLaLV0E7SHtA+aDG0XLS4WgKtmVpVWvVaV7Re0cl0GzqbPo5eTK+g76dfondpk7VttTnaPO0Z2lXaB7VvavfoMHTcdOJ0CnQW6uzQOa/zXJeka6sbpivQnau7Wfek7mMGxrBicBh8xhzGFsZpRoceUc9Oj6uXq1eut0uvVa9bX1ffUz9Vf7J+lf4R/XYDzMDWgGuQb7DYYJ/BDYNPQ0yHsIcIhywYUjfkypD3hkMNgw2FhmWGuw2vG34yYhqFGeUZLTVqMLpvjBs7GicYTzJeb3zauGuo3lD/ofyhZUP3Db1jgpo4miSaTDXZbNJi0mNqZhphKjVdbXrStMvMwCzYLNdshdlRs05zhnmgudh8hfkx8xdMfSabmc+sZJ5idluYWERaKCw2WbRa9FraWaZYlljutrxvRbFiWWVbrbBqtuq2NrceaT3Nutb6jg3ZhmUjslllc9bmva2dbZrtPNsG2+d2hnZcu2K7Wrt79jT7IPuJ9tX21xyIDiyHPId1DpcdUUcvR5FjleMlJ9TJ20nstM6pbRhhmO8wybDqYTedqc5s5yLnWueHLgYuMS4lLg0ur4ZbD88YvnT42eFfXb1c8123uN5103WLcitxa3J74+7oznevcr/mQfMI95jp0ejx2tPJU+i53vOWF8NrpNc8r2avL94+3jLvOu9OH2ufTJ+1PjdZeqx41kLWOV+Cb4jvTN/Dvh/9vP0K/fb5/env7J/nv8P/+Qi7EcIRW0Y8DrAM4AVsCmgPZAZmBm4MbA+yCOIFVQc9CrYKFgRvDX7GdmDnsneyX4W4hshCDoS85/hxpnOOh2KhEaFloa1humEpYWvCHoRbhueE14Z3R3hFTI04HkmIjI5cGnmTa8rlc2u43VE+UdOjTkVTo5Oi10Q/inGMkcU0jURHRo1cPvJerE2sJLYhDsRx45bH3Y+3i58YfyiBmBCfUJXwNNEtcVri2SRG0vikHUnvkkOSFyffTbFPUaQ0p9JTx6TWpL5PC01bltY+avio6aMuphuni9MbM0gZqRlbM3pGh41eObpjjNeY0jE3xtqNnTz2/Djjcfnjjoynj+eN359JyEzL3JH5mRfHq+b1ZHGz1mZ18zn8VfyXgmDBCkGnMEC4TPgsOyB7WfbznICc5TmdoiBRhahLzBGvEb/OjczdkPs+Ly5vW15fflr+7gKNgsyCgxJdSZ7k1ASzCZMntEmdpKXS9ol+E1dO7JZFy7bKEflYeWOhHvyob1HYK35SPCwKLKoq+jApddL+yTqTJZNbpjhOWTDlWXF48S9T8an8qc3TLKbNnvZwOnv6phnIjKwZzTOtZs6d2TErYtb22ZTZebN/K3EtWVby15y0OU1zTefOmvv4p4ifaku1SmWlN+f5z9swH58vnt+6wGPB6gVfywRlF8pdyyvKPy/kL7zws9vPlT/3Lcpe1LrYe/H6JcQlkiU3lgYt3b5MZ1nxssfLRy6vX8FcUbbir5XjV56v8KzYsIqySrGqvTKmsnG19eolqz+vEa25XhVStXutydoFa9+vE6y7sj54fd0G0w3lGz5tFG+8tSliU321bXXFZuLmos1Pt6RuOfsL65earcZby7d+2SbZ1r49cfupGp+amh0mOxbXorWK2s6dY3Ze3hW6q7HOuW7TboPd5XvAHsWeF3sz997YF72veT9rf92vNr+uPcA4UFaP1E+p724QNbQ3pje2HYw62Nzk33TgkMuhbYctDlcd0T+y+Cjl6NyjfceKj/Uclx7vOpFz4nHz+Oa7J0edvHYq4VTr6ejT586Enzl5ln322LmAc4fP+50/eIF1oeGi98X6Fq+WA795/Xag1bu1/pLPpcbLvpeb2ka0Hb0SdOXE1dCrZ65xr128Hnu97UbKjVs3x9xsvyW49fx2/u3Xd4ru9N6ddY9wr+y+9v2KByYPqn93+H13u3f7kYehD1seJT26+5j/+OUT+ZPPHXOf0p5WPDN/VvPc/fnhzvDOyy9Gv+h4KX3Z21X6h84fa1/Zv/r1z+A/W7pHdXe8lr3ue7PwrdHbbX95/tXcE9/z4F3Bu973ZR+MPmz/yPp49lPap2e9kz6TPld+cfjS9DX6672+gr4+KU/G6/8UwOBAs7MBeLMNAFo6AAzYt1FGq3rBfkFU/Ws/Av8Jq/rFfvEGoA5+vyd0wa+bmwDs2QLbL8hPh71qPA2AZF+AengMDrXIsz3cVVxU2KcQHvT1vYU9G2k5AF+W9PX1Vvf1fdkMg4W943GJqgdVChH2DBtHfMkqyAL/RlT96Xc5/ngHygg8wY/3fwENzZCgsp+LNwAAAIplWElmTU0AKgAAAAgABAEaAAUAAAABAAAAPgEbAAUAAAABAAAARgEoAAMAAAABAAIAAIdpAAQAAAABAAAATgAAAAAAAACQAAAAAQAAAJAAAAABAAOShgAHAAAAEgAAAHigAgAEAAAAAQAAAYygAwAEAAAAAQAAAdgAAAAAQVNDSUkAAABTY3JlZW5zaG90ljBdBgAAAAlwSFlzAAAWJQAAFiUBSVIk8AAAAdZpVFh0WE1MOmNvbS5hZG9iZS54bXAAAAAAADx4OnhtcG1ldGEgeG1sbnM6eD0iYWRvYmU6bnM6bWV0YS8iIHg6eG1wdGs9IlhNUCBDb3JlIDYuMC4wIj4KICAgPHJkZjpSREYgeG1sbnM6cmRmPSJodHRwOi8vd3d3LnczLm9yZy8xOTk5LzAyLzIyLXJkZi1zeW50YXgtbnMjIj4KICAgICAgPHJkZjpEZXNjcmlwdGlvbiByZGY6YWJvdXQ9IiIKICAgICAgICAgICAgeG1sbnM6ZXhpZj0iaHR0cDovL25zLmFkb2JlLmNvbS9leGlmLzEuMC8iPgogICAgICAgICA8ZXhpZjpQaXhlbFlEaW1lbnNpb24+NDcyPC9leGlmOlBpeGVsWURpbWVuc2lvbj4KICAgICAgICAgPGV4aWY6UGl4ZWxYRGltZW5zaW9uPjM5NjwvZXhpZjpQaXhlbFhEaW1lbnNpb24+CiAgICAgICAgIDxleGlmOlVzZXJDb21tZW50PlNjcmVlbnNob3Q8L2V4aWY6VXNlckNvbW1lbnQ+CiAgICAgIDwvcmRmOkRlc2NyaXB0aW9uPgogICA8L3JkZjpSREY+CjwveDp4bXBtZXRhPgrdSm8RAAAAHGlET1QAAAACAAAAAAAAAOwAAAAoAAAA7AAAAOwAAGddaTzLqgAAQABJREFUeAHsfQdgU0ea/8+23HvHYIMxppreQwkQIIUkhJBGGiSbbdmeLdl697/N7d7t3V5yt3vZ5LLJpvcCSSAJAUILvXdswFQb94a7Jdn/7zdCFOMi2ZKsMpMYSe/Nmzfvm3nzm6/7tUiBLpoCmgKaApoCmgKdUMBPA0YnFNKnNQU0BTQFNAUUBTRg6ImgKaApoCmgKWATBTRg2EQmXUlTQFNAU0BTQAOGngOaApoCmgKaAjZRQAOGTWTSlTQFNAU0BTQFNGDoOaApoCmgKaApYBMFNGDYRCZdSVNAU0BTQFNAA4aeA5oCmgKaApoCNlFAA4ZNZNKVNAU0BTQFNAU0YOg5oCmgKaApoClgEwU0YNhEJl1JU0BTQFNAU0ADhp4DmgKaApoCmgI2UUADhk1k0pU0BTQFNAU0BTRg6DmgKaApoCmgKWATBTRg2EQmXUlTQFNAU0BTQAOGngOaApoCmgKaAjZRQAOGTWTSlTQFNAU0BTQFNGDoOaApoCmgKaApYBMFNGDYRCZdSVNAU0BTQFNAA4aeA5oCmgKaApoCNlFAA4ZNZNKVNAU0BTQFNAU0YOg5oCmgKaApoClgEwU0YNhEJl1JU0BTQFNAU0ADhp4DmgKaApoCmgI2UUADhk1k0pU0BTQFNAU0BZwCGM3NzWjxItr6ybP4+/t70RP53qOYzWa0tHjTrLTMSW+flxyzZi8bN1e+fY5euxwKGBzcCxeqcfbcORiNRvj5sbueXfhM4WHh6J/eD0HBQZ79MD7a+9raWuzffwDFJSUyJz2fCFw/DYYADBo4EAMGDEBAQIDnP1QbT2CWjWdhYRGKi4vbOKsPdUYBrl2BgYHom5aGqKhIh6zHDgWMkpJivPLKK6g4cxBhQcJleMmGrsYcgqFjpmPR/YsQGhra2Tjp825EgfqGBvzjHy9j366tCEYjiBeePi35DMYWPwSExWPJkiWYNGmSG1HcMV3h2rHvwH68/+YrCGwohuCjLnZSgJujuiZ/xPYbgUcffRSJiUl2tnBtdYcCxkfLluPAF3/DvYPrEewnrKR6Pa+96ZVHOPn5YOolln/afZlZsfVJHpMit7p8qq16lmqWfzs7f2Vd+e4vjZfU++H9U8m469GfYtqUya1q6J/uTIG9+w7gf575T8ztU4xR8U0wt55D7tz59vomc9jY7IdPcsPh12sCfvOrJ71uI1NX14D/evq/0K9yDab0oYj74sveHk308Wso4C9Ua5SNxfs5oRg57/u4a8Ht19Sx94DDAIM7ghde/AdiT76BG/pKR5tt60qzXHeyzIQGk4h+gvyQHBEgn/6XRAeUX1K0RQ2C+i6ffOf5Z/D3w/kLcq2xBelxgQo4OK/MvEbO84/d8Jfrre3wGFk1Xm9rkW7hvePBiJ38bTy06G5bL9P13IACX65ag4/eeA4/H1uGKJEocr55euEjyCuCbUWB+Pj8IPz7v/0eSYmJnv5YV/W/tLwK//2n/4e743ejV4S/dwD9VU/omh/BMk825wOnku7Cj374AwR0UxfrUMD4+0svIzr3dcxMa5EdUOcEIRBUNzTj/7bVYUCcv7CdfiiqMePuEWEIMgAm2Q5GBAegtqkZ9U1mxIUbYJJ2BScQbPBDvYBM0QUzzLIKZMQHoqzWrIAhXuoZ5RiBIYT1BFBCAv1RKyjGtmJD/aV9QodthVWXnwxE0Jhv4pGHF9l2ka7lFhRYtVoA4/Xn8MSYMkQIYMiU8IpikIVgT0kglp0fiD/+678gOTnZK57L+hBlFVX4iwDG/NjdSBHA8Aagtz6bKz/VPCkEjsbMx09+8oSssdx6d730KGBw519Zb8b7Bxrw0NhQRAT64ZmNtZja34CvT5uQFO6Pkb0M2JHXhNBAIFLAIybUT3EW09KD8eaeWrX4R4X4IUjAZkeeUbEU41IDFXBUN7XgxkGh+CK7HkOTDFhzvFHVD5WF45bBoYpzIah0VggYnwpgBGvA6IxUbnfeMYBh3Vx0PldsJQA3S6o1G+ZfW21qwGiLKvpYawpwnuwubEFOzB34sacDhpXDeHZzHfrG+iFcAOOCLPKzM4OF62jAE9NC8OWxRtQ0AZPSDFh5zIjpAiYny8yYOSBInesfG4CKuhaU1jWrYxEiP/osuxGJYcLGCvXuEW7l5V21GJ0SgK9OmDAl3YA4OTcoQRDIxqIBw0ZCuWG17gIG5yg51+MlJozvGwTZlzik1MvexiRWQJGUGXShaMDoAtF88BKvAgxyGFUiknp5Zx2m9DMgUVjPfjGBAhAteHlHHZ64PgKv7apR+pCJwjVQV5HVKwgfHaxHoFhNZMYHKBFDXpUZlQ0tmDswWKyz/LHsUIPoQvyU+Oq2oaH43821WDQ6BI0iwtp33ojCajO+NTECgYIEmsPw7reou4BBMemB80348EAjnpwZjiARbXLSUURiFJEpRZ4yjZWMnVhikhPNomgM4X5E6lCEStAxKCMQy+9QuWb1sQbhrpuxcESo0rPZi0MaMGybt6Rrd/hCXk9DCY4rpRj2lo7v3/HZq+7FSdYFbtTrAIMiqU+PNOLeUSGirxC9vrxsZbUmvL2vAd+eHIZjRUZsPG3EwIQA0VVAREwhWH+yAV/mmPCbG8JwpKgJ5fUtIrLyw8lyM/g+U0mWIfVX5RiREgWp04L5wwJxqpw7OuCEfC4eE6YB46oZ6Z0/HAEYhwoIGE34zexw7BLx6BmZZxQFHy9txgjhXG8fFop1J+pRWmtxMsuvBMamBWDWgFB8nlOH2BB/4YyDUVzbjA9E/DonMxB/396AWuEyHhoThIl9g9Fsp5BeA0bn85VATcGfstbkYiu/yc8RQKwbRepDueYoM5iL9Wkuo87Lb64np8pN2H62CfeNDlP6Ui7z3BSwWP5lm9fCklyuzlvaV7dX7bJfrF0q+tpYkXbQeMdSqHflt4ttXzzcJAtftWyI48JoW3ztfSzXtv2vVwEGH5E7sFJh+RPDA9RLaD1WUmNCcqRBETO/yoRyETmlxRoQIy9ftSiuKSboFxuICw1m1QYV2SdKjer7QBE3cWeYV2lEo2wPyHXEhwao+5TLdX3jDIgKIXdiG/G1SKrtyegJRx0JGP80NwJLD9Zh+ZFm/HBaoBhiAG/tbcK/3RyGT442YG9eM340NQQlMlff3N2EJ2eFYGV2kxhr+GHx2HCcrjDid1824F/mhuDjww2KS/nG+DDhRqwLhu0U1YDRMa24oGcXN4kRTTOGJBoQL+vLGaE/JRHBskAPTwkSYxgzjhabEC1rCteMArG4zC4xip4zQDYCgeLDILL/YqNaN05WNOP7U8KxRzYMlIBkJQWKlMMPZ2Rt4uegeINEg7AADQGB3OdB2WhUyP2Gi/40VJCnUtYqrlnnKk2KY6EkZJaI1rmmcX2rFQnKmD6BqG60rFkh0m6JbJ5PVZhwoMCMh8eGybrFTbVt6xYp5HWAYXkoio+uJgIHgURn4XeiNcGFOzEOCJG/Sc5TrMVztJSiiImvnswDRdRAZRFgwX5yJ0RyPxENWNtRjdvwjwYMG4jkplUcDhgH6hSn+k9zI5U49anVNfjmxBBsOCU+HjIHfzAlUpmI/3ZlNW4eHIhjpbKLFKOM+8eE46wsWP+yuh7/elMYPhOA4dx9bGI46mwxKWxFXw0YrQhyxU++54dE8rD6uBHDkmQjWSI6z8wgvLuvEdNEB5ojv+cODMLBQpOYJ8s6I+NGUNlwsgmZIpnILWvGSOEcz1aaleSisLpZiaVGpxhk4TbJoh+AwgvNGNPbIJIQI+4ZFYjxqZejQNAC8ysROR4uNouuVO4v7Y3tY0BuqQlLxofjtd116B3pj21njTJHgsQox4i0GH9Zz4AEEaUTEDLkHr1kw7xS2kmOJPg149EJYcrlwOcB44qxVgyXdb9FuOB3i1eF5V/W5TdLHSvIWFg8y7+s4diiAcOx9HRla44GjA8FMKpEBPo92W1WiA7ivzbUYfG4YHx9qlH0FH5YMiFcdGXAU2tqxHjDIIuFGVHBfnh4XLgsGEb8XgDjj8KRLFeAATzG+hc3RvbQRQNG+9TiRnHFkTocLjJjvIgGd50zYXK/QOEOzPjx9HARgdcpfcRxGZtHx3ERDsChwkaxomzCr2dFKpH3rnyj2nh+d3K4GDwYsfmMEWKkqcaqf7yAgCzgQ8SCk8YQ358ScWlzy15xg/vC1hoBnUABqBD896ZqpEVZ3AOWjI/ASztqMFi4jiNFJtw+NAQvba/DIxNClSvCFzIvKKYaIsDVK8qgNhZjCDbS17tGWkRi7T/5tWe8ksOwPiZ3/vSTIIvIQtaPO4CyOrOwlP7ie2Fx6CuoMipuIiHMoACmQrFzZqRFB6rfvPZKFFYyQzvYOF5/ZdGAcSU1POu7IwCDooUP9zfin2+MxAf76wQoWvDDqRbA+I/1tXh0fIgARpNY77XgFzPDFOfx9MYGPH5dELbJQlNU04LvS/3NJxtlsTDh+YWhsmg1iOgB+PaksEuiWHsoqwGjfWpRHL3ueIMSN80WTqJWRDwRsqasPdGk6L3scL0CcYL5bOE8KH2ok3Vnfa5JgD0UW0VfQZ1Bmawr5ACoGz0h+ioa5TTKIjUhTdYZuaZGrjkuHORDIm68UkJC5fibe+sQKRabk9KC8Na+eoxLNeCYcDZ3ZoWIBWg95gw0iD7MhJsGh+CdvQ2YN4SuANS3mkTs5KfEVDECHJtkXk1PD8Q+EUktGh2qREztP/m1Z7wWMAIFGHLLjWI90oRvCaqTg1gm1lAZguacAKnRBnG88lfsI/0qEsL8xIw2VLH/O2SAT4uc75EJEcqvg6gRLHJhDgD/zLKDYxskXleKBoyuUM09rnEEYGSXNGHlUaPoLcLxxdF6JZdeIrqHauEwXhBrvrtHBCtxxmGxdx+V4o9zVS2ikwMWi/jhaGETXtvThHQxG5cpjpMVLbKLDZPFzCjgY5SFIgCzB4ZetcGxhXIaMNqnEjeIVWJM81l2A6gHiJPNZlayAbvzTQIAwcItNCFeFmWpgv3CSdAJ+KZBQdgr4qY8EUOx3Do0WEDCjAMituJ5ihUn9g3EGjHzp+l+SpS/ApBTAiZzZfyuZBIpCc+TTS3XMrk9kgRoZg4IEd1XvRJDlohe5dZhQTgk96MYfd95k/Iv432n9gsSnSvEiKJJ3TdcuNMpcuwLeZbrM4LE/UCAhYuajcVrAYOofFRezKVijfJDYRspXnpfkHlYrwAxp4XIAg3YX2BUu7tTIhO8PsOglIVHRU7InQDNaKekB8kuoUldS3aQAMPJQZkmB/mWISHqpbWR1peqacC4RAqP+9JdwOADUydGzjdGDCvI9ZJZpfKRL26lmIXHyfGXd1qcSPlSs04f2eBYrV9owMFjvSID1E42WgwuqHcrqJYFQ+ZmkoTDsbdowOiYYgQN7voZ3YFjxUIJBunGT4I3aV/VaBZQkcgPssHkuNKIhgpqggTX5Wq5nqbTLDzWKIrpemmARjMcf15TL2hRKBEn5Oul0jfGoMCC+qloUaKzHvtD1wAaOfD+bJXtf3CwATcPClb+YTTQYUOcb5w/BB/WZdQLPhN/21O8FjAo9ztR2iTsWiOu62tQLxTZsDvEHJbKqT6C6AdFJkmZI2V+WaKUOiq/7xkZgk2nGxVbSdkxo1omyo4iW4Bksvh2UH55n/hgvLWnHg+KN3mChA25UlxlC/E1YNhCJfes4wjA4IvKBd5qcMEX3ZqjIYAvtRx4RZxDaalHObNR/H2447TOM9bhNTzGl5/KcRYuCLJ22bVjVBeqa3VoECst2vtU4yYnrWPF3xwT6yevo+EBR8M6Vu39Zl3rtVeNv1xfLqwKFdocSxau6QNFiU5rqyvH19of6/34m3PhiLgOZIqVVbi4FVjnBs9Zi/W+1j5aj9vy6bWAQQ4jR5RLH4is+FuTJWyHDOOyw40YJRwGZY30Aqcd++NihfLSjlpEiz/Fmcpm/OC6CAGMBvlucd4LE4epVFEwMRYVHaRo1nbb0DD8bUuN2MsHC/AYLk0gWwjOOhowbKWU+9VzBGB09lR8uc+LCIIAkCSWLV15sTu7R+vzmsNoTZGe+83xt3KT1l6Qm7B1HlBJb6QixQnFawGDHMZxsSL54mgTfiQe3gzN+97eevQTHQZDgQyICxAHPhMmpAZgrSinZolIiuKo/hK0kKaLlBNSyUTP8f5Sl2BB35ozYj99mzhW/UNAZt6QYKTIC23dcdg6PhowbKWU+9VzBWDwqQNk0eDO0d651VWKacDoKuV86zqvBQyidI3I8xitNkMc61gYupyhzinnSxJR0hlRbBfI+WQBh96UBwvrny2ONwxSSIuCJHHO2SdhHCijHCRmaVR0UxZIe+az4iyTLOepDLe3aMCwl2LuU99VgOHqJ9aA4WqKe+b9vBYwOBwEDSp1qOBhoeyX4l7KfflJWTGFydzLkYOTr0oGSS0Rz6s6rCyF7KC6Vr4zP0aAXExrqa4UDRhdoZp7XKMBwz3Gwd5e6PDm9lKs7foeARiz0logG3uvKQSMT3IDETJW58PwtEFlAqWlkkDpp2PKxVLOYtXiac/QVn+5EOxiPoz8TPzbH37vtfkw7riYD6OLe722SOdTxxgRY1cBkBM7383Cm8swvPzKG/A7+ArmDZD4Tl3bzNs3mLyHhaGw7zpbalv7L+3TJO6NnAgMmfM4Fi64zZardR03ocD69Rvw5svP4ntZpUgJt4R4cJOudasb1JmsyQvC1pqhKoFSbGxst9pzt4srqqrx9L8/hZsjdmBAjEgd5B2kRMHtyhXrhNv1TTrEze7K0/5oGPgQvv2tb1yUyHS9pw5LoMQubNqyDSve+l9MSygWRxehpJWYXe9fu1fKXlGdswYJabdiF0+o9in+ktucqREfkIZMPPqdH2HI4EFdbFFf1hMUOHPmNP7852fQG2cwPKHBafsL67Mpyxh5SZ01Ly33aRH9nT825kdi+KS5+NY3vwGDwaL3s/bD0z+NRiNefe11lB/4GBOSGyTig5jDOnE96Sq9rlwnutqG066TeVjR4IdNpUm47cEfYtqUyd2+lUMBw2Qy4at163Fg7x40N1Z3u3PtNcCNhlmSz9TU1CAqKlJ+8YhjS2VVJcLDJP9BcAgCI+Iwbdo0jB87RulZHHsn3ZozKdAiMRw2b96K1V+tQ2VlhZN3qX6oq61BUFAwAgMtYWuc8mzC8vr5G5CZmYF77roTSUnelZ7VSrPyigqsWPE5CvJOosXY6FbvHlcc4ldVVRUio6K6vXO3PrOjP/2DIzFyzFjMnjXTIZsKhwKG9WGbjCbU1TdYfzr8k841FTKZVq9ZgwV33AFDoO3Z82zpDHeJq1evQlxcPCZNmoTQkCCxuLLfG9eWe+k6rqFAbW2tzJlKecmdt00lV/HlqlXIGjYMaX3TxCHPSYo8eYSg4CDEx8U5ZBFwzQh0/S61dQ0gx+FktLerg1yDysrKsG79Otx2220Ilo2lrX4Xdt2om5XDQkPEi91x3KdTAKObz2jT5eXl5Vi6dCkeeeQRp7w0eXl5+Pzzz3HvvfciJkaEqLpoCthAgQ8//BDjxo1D//79baitq3gyBQ4fPozs7GzcddddnvwYdvXdYwGD6L5s2TIsWbJE2H/HchhWCn788ccICQnBjTfeKMlR6PCvi6ZA2xQgN9HY2IhPP/0UY8eORd++fWXXKeEIdPFaCqxdu1atPdOnT/faZ2z9YB4LGKWlpQowyGE4CzAqKyvx9ttvY+HChejVq1dr2unfmgKXKMD5uHr1arXjTEhIwIgRIzBz5sxL5/UX76KA2WwGuUluDgYOHOhdD9fB03gsYFDZ9NFHH+GBBx5QXEAHz9itUxs3blT6knnz5jkNmLrVQX2xW1CAgPHUU0+huLhYHEQlKOY99yhxplt0TnfC4RTgZpIi8TvvvBPeZtLcEbE8FjCoxCTC33333QgPl+QDTir19fV46623lJXUkCFDnHQX3aynU4AiqRdffBEUU0SJ1cyTTz7pUztPTx8/e/t/+vRprFu3DosXL5YoEr5jEKMBw4aZsmvXLlDBtWjRIi2XtoFevlpl06ZNePbZZzF8+HA88cQTTt3I+CqN3eW5t2/fDhrG+JLCm7TXgGHDDKR/CXUZgwcPxsSJE93KHtyG7usqLqIAxVG///3vccMNNyi9F2Oj6eKdFKDBTe/evZXZvXc+YdtP5bGAQVHRe++9p15MigCcXU6dOoWVK1fiwQcfVCIHZ99Pt+9YClBk5Ao7+VdeeQXXXXcdXCG+pOWeBiXHzhNbWuMG8rXXXsPNN9+MPn362HKJ19TxWMCw7vqpjKZVirMLFxz6ZVBfMmPGDG1m62yCO7D9hoYGlMjuv042GU4ICnCpp+QnTp48peZjpIpAcOmUY7+I4x6BIj4+XvkI+ZIM3bGE7Fpr5CRpcv/oo4/6nCGMxwIGLVGojHYVYHBq0RLmgw8+UHLLpKSkrs02fZVLKcB5skbMXdd+vRUtASHOdxamGEo5kzvPo5yoZzY1ISE6FPffdy/69evnUpr6+s127twJKr1pCedrRQOGnSO+RsKRVFdXY/78+T5lHWEnmdym+vn8fPzpv/4b4YOuR0zvAbKYOylchyufWECpRTjeMztXYlz/GHzjsW9qjteF9P/kk0+UKe3111/vwru6x608GjDefPNN3HLLLRJ8zXW7fYLF+++/j1mzZiEjI8M9RlH3ol0KHDl8CH979QNkznkM/sr80Zk7/3a74fAT/gGBKDuXjZaT6/HrX/4CIaFhDr+HbvBaCpBjfeONN5SZfWZm5rUVvPyIxwIGx+Xll1/G3LlzkZaW5tJh2r17N3JychRL6iwvc5c+kBffjIDx3OtLkTHrYQEMCcImgSW9ofBZqorOoDH7S/zmlz9HWHiENzyW2z8DHYbpsHeHBD2Nk+CPvlY8HjDmzJmj4va4cuCampqU/mTMmDEYPXq0K2+t72UnBSyA8ZEAxmIvBIzTAhirNGDYOSe6U526C/pgMFyQL24WPR4wZs+e3SNKP3IYDBvy0EMPITQ0tDtzUF/rRApowHAicX2w6R07dqgcGJRs+GLxaMCgLTQTGw0YIMpMFxfKMhmahBYqzJmh7eFdPAA23s4uwLA62l0SW4nFE21l+fviuZZmM5pNRgQEhVh6YK3b6lrOB5piq7qBQZeuNzU1iILaIOfMksfl8vHLorIr7tnBM1pEUprD6IBETjnFaMSMROyrkgWPBox3331XRQXNyspyyuTorNF8scChbwbDA/iiPLMz+rjDeZsBgwv+lYu/FSQufTaLSCsQNRVFOH98DzLHzREM8bdgiTzoVYmZpC1/OVdfU478nL3IGH09/ETnQMfBo5tXoFdGlrRTgj6DxiGAmfkEWBQgXcQl1iPgdORoqAHD9bOLm8RXX31VmfKnpKS4vgNucEePBowVK+Tlk7Dj48eP7zFSLl++XMkyyaJqB6oeG4Z2b2wTYMjibqyvRkXhWcVRxCT3U34ODdUVaGqsR1hkHBrqqhASEYMWWTQOf/2xAMYsYT4CEJeaiaa6GlSV5ikdSWyvdAj7oH43SZvFp7MxfNbdqC49D5Povg5v/BjDZ96pwCA8JgENNZUwNjYgNDIGkXEpqCw+i6aGOgSHhiMsOgGBwRJYsw1TYA0Y7Q65004wBw8V3gw46Ku5TjwaMOgTQcUTPa97qjDMMUOUME2jr4UJ6Cma23NfWwCDIqLDmz5BfVUZDCGhCJLFOjgkHIWnjiAqIQVlebnCDYxBecEpDBg7C7s/fxV9h08Rs9bjyJwwG4W5h2CQPN41lSVIzhiOxupK1NdWIsAQiLrKMqSPmYHT+79GbEo6TuxYhTE3PyxAchRR8b1w5vB21XalgFXmxLk4IoCS1D8L+dm7BFjuQlK/IQJekp60VdGA0YogLvh54MABHDlyRAUhdcHt3PIWHg0YX3/9NS5cuIBbb721R4m7ZcsWFBYWKtAIChK5tC5uQ4FOAYOiH9EnrHvjT2pxNohuoq6qRHb88QICIUgbNh57vngTU+/5kQDFK4hPG4hzR3bi+vt/iqObViixU0XBWaQOHY+6C+VKFFVbVYohU+bB3xCEA1+9j7je/RXHkDl+Dta9/icMnDQHhccPICopFbUCMqNvfBDblz2P2F79UV1egEl3Po5N7zyNDAGalEFjYTY2XkNPDRjXkMTpByjRiIyM7NENqtMfspMbeDRgbNu2DQUFBSqJSSfP6dTTjFVEJ8KpU6di6NChTr2Xbtw+CnQKGBeb2/Lh/yKuTyZiklMRFByGUuEqAiU9b2/hLI5+vVxxBfvXvKMW/9zd6zH5zu/g+M6vlOK65Oxx9M2aKOKjEIRGxePEzlUCIBOVziNn6+dIHjBSlN+N6DdiCrZ+9CyGTp2PgtwDcq++aKqvk9+3Ycenf0dC30GKaxk15375/SIGTb4ZKZkjBTCarnloDRjXkMSpB2jAwFBEkydP9uk8Jx4NGHv27AGjyLpDTHr25eDBg8qZLyxMe9069e21o3FbAIOL7/nj+1B08pBwFrEKFJoaapVSO0E4itMHNmPQpJtwcu8GRCf1wcld6xEelwBjQ71wCzeh+NRh4QyKESjcZe/B40UPcQ5FuQdFtCXOdMK99BdOIWf7SoSEx0i98xg86RaUiDgrIjZR9BoN6Dd8Ko6ISKzPkPE4sf1LBEdEK93HqDn3ISl9qAYMO8bbWVWtER7of+FLGfZa09OjASM7O/vSIt36wVz9mxYUDBmSmpqqTH21ma2rR6Dt+9kCGLzST0KFN9ZeUOauoaLctugNxFpJwMRsNCpOggH/WK+luUUW+noRWYUq3QVNpepEQR4gdYPDopTFVGNtlbqW+pFA0W80CgC1mE1iFRWslOPN8t0/wNJWgIiuTCJ24pw5vX+TukdZ3glkiQ4jMiZRUr6arnk4zWFcQxKnHuDGlKJnBhz0ZbGzRwPGmTNn1CDef//9Tp0stjbOSbVq1Srcd999Kuy0rdfpes6jgK2AwR5YYk2RKTAr7oLHWsRCyQISlk+Cg5xUizvNXq0mscxNwcJreZ6/rWaxrKPOU1/C6y+2YYlqe/kePF6Wn4uSs8cUl5PUb6gcajtYogYMRW6X/cMItYxWzdh1vlw8GjCoaGZSo4cfftgtTFop52R/QkT2PXPmTB1B1A3eLHsAww26q0DLzy9AgEIcBAk+7RQNGO0QxkmHqfCm78W4ceOcdAfPaNajAaO8vFx5Wz/yyCNuwyayTzSzXbBggZpgnjENvLeXngYYto6EBgxbKdX9ekYRSTJC7Y033qhEzt1v0XNb8GjAoEktvb0Zz8mdFM1fffUVKioqFGgYDBIhVZceo4AGjB4jvdfcmO8ywwDpuHEibRWZqghVPbPU1taq3TytpKKjo93mIWpqalS/KJbqiThXbkMIN+iIBgw3GAQP78LRo0exd+9ePPDAAx7+JN3vvkcDBv0fiPwMy5GcnNx9ajiwBU4wWnERzHzZqsKBJO1SUwSM51//CP29Lrx5ICqLTsKYsxq/fvIXkg9DQojo4hQKUC/JUCBMmubrxaMBw2QyqRzbEydOdLudPOWe77zzjgqOyMiW2sy2Z161YznZ+MuLb6Df9Q+Jt3WEKJM9lqG+ioBUjBfl7kFkxSH89IknJJTJxei5V9XSP7pLAc4XOuxNmDABgwcP7m5zHn+9RwMGB/Ojjz5S3tU9FbG2oxlw/PhxbNiwQZnZMqSALq6nAI0Q/vq/z6IuvC+ie0tKTTFtdWZh867AJLMELCzJ3oo5k7Nw+/w7tEWekwaVYu+3335b+V/ExMQ46S6e06xHAwbJTL8HhhbvyYi17Q03zWyZMJ79mz59un6p2yOUk48fOXwYa9etQ1VtA1qcDBh1ssDQUS9IgmJeFfLcoc/YAppS9O+XKqG2b1XxjRzavG7sEgWYYY8x6+hbpUXLHq705qhu3rwZTJnqrvJFxrpiCPQ777wTiYmJlyai/uJaClDfVVMtntwd+DY4okerVq/GMIknltavr3h2t+1054j7BIkIKioqWm9CHEHMDtrYtWsXioqKVA4MLVb2AsBgDKfz58+rSLEdjHuPniIXxAWLUXV1zoweHQqn3/yDDz5Q3G7//v2dfi99A+dSgCLvzz77DL1798bYsWOdezMPad3jRVK0RDosIgfu4K3hGdyN9lVVVcrM9uabb1bpHd2tf7o/3acAxY/cFDCFJxcXpu711SQ73aeme7RAwxXqLyi9YFpWXbyAw8jLy8P69etx7733urWMcevWrSoUO7kMvZB436vHTQHD7ZPj5Y50xIgRelfq4cPM5Gg021+0aBEiIiTysC6e7bjH8WPaRFpKuZu3d+u5xd2nNZ6+O1p0te6v/m0fBYqLi/HHP/4R/CS3QY6XC40unkuBnJwcUIdBhz2tv7CMo8eLpGj2Rn8HchhRUVFuPTv379+vdqBcSEJDQ926r7pz9lGAPkF///vflRk1d6M///nPdTIt+0jodrUZ4odpCxhDShcLBTweMDig3LlzUHv16uXW48qdJ3NmZGZmKnGFu+pc3JqIbty5jRs34rnnngM5yJ/+9KcI197XbjxaHXeNCm/qL6iP0lk0L9PK4wGDj/L6669jypQpaiG+/Gju+Y05PLhzYTRb+mfo4j0UoPnlU089pZSkDAmjxRieO7b19fUq7TITJmmHvcvj6BWAQcVURkaGRygZrc58jK47Z84cbWZ7eS469Rt3jKS9s8tLL72E6667TnEZzr6XNtF2HoXPnTuHtWvX4sEHH4SOOH2Zzl4BGAy/QaXyTTfddPnJ3PgbFaMff/yxyt6Vlpbmxj31jq7V1dWhpKQEjY2NTn0gycOHY8ePISkpUaInOzeMBO8VLaEq4uPj9KbDCaO6e/fuS/5dmlO8TGCvAAwqk48cOQJ3SdV6mbztf2O4gfz8fBXNNlDCSOjiHApQGb1u3Xps37VF8m/LPZwcGsTyFAxw6NyYVSajGZGhMbhzwULtI+DgqUNu9Msvv0RCQoJbhhxy8OPa1ZxXAAbZx3USK4ipWj1lN1BdXa1svKdNm4aBAwfaNWi6su0UKCgoxNP//WcMm5yCtAHJIpay/dqu1HRF8EHegyFOtn51GP2TsrD44cWS2tWSU7wrfdbXXE0Bhhqixz7fTTpg6nKZAl4BGFx8rZn3PMlclZwRvdQXLlyo8oBfHhb9zVEUOHL4CF579x+493vXK1m0bB69ohiC/HFs/zkc2lCAX/z8SYSGaTNtRw0sIxwvXbrUI0z1HfXMtrbjFYBBF/4333xTxWpKSkqy9dl7vB7FJfQhGTJkiGJ9PYU76nHC2dGBw4cO451lr2HBN6YiwODvktDjdnSvy1UN8ix5p0qw7bNcPPnzX4knsk6g1GVitrrw2LFjymufzsDa9P1q4ngFYND6hZZSo0aN8rgkJ8yZYQ1t4k5pZq+eJp77SwHG0lex4LFpXgcY506WYPvnJwUwfqkBw4FTlOJtGkowjI8uV1PAKwCDj8SokkzT6o55Ma4m+dW/CHYrVqxQXurXX3+93tFcTZ5u/3IkYLhCP2HrA5PD0IBhK7Vsr0eFtzVTJuOB6XI1BbwGMLZs2aLMJt01L8bVZL/6Fx2+GOX0jjvuEJNMzxGpXf0U7vnLEYBBUSHFh82mZgSF0NRKUiNd1IUQRFhs/W2p3f1/NWB0n4ZttUCFNx2BGQssPj6+rSo+fcxrAIPKY4p3uOh6oi5gtSTesbLB2lHIce9kdwGDc8nPrwX5p0tQWlSB0ZOHwGwyC0C0CDcYILGGTPDz95fvfgo0eLyluUXEXwHyEHQW5O9msWIyiKHtRaCxgowcv1BZi/DIUBgCmUPP9qIBw3Za2VOzsLAQn3/+OR555BHN7bdBOK8BDIbcYPY9hmTwxPDhFy5cUDkz6P2tk++0MVO7eKg7gEHuoaqiDlVlVTh7skgW92pMv2kcygQ4wiPDlClraVElgoIDkZqehLKSKjTWN6KxwYiU1ASEhIWIYroQTY1GJKbEISw8BA1yPjYhCkX5ZeqJNq/eh0kzR6CPXE9wsbVowLCVUvbV27t3L2imP3/+fPsu9JHaXgMYjF3PMOcEDE+N/cJQyrm5uSrOlCeCnju+M10FDMWlCrfw2XtfIzgkEIXny2XBD0Zy73jkHDiNSbNG4Oi+U4hLjEbBuWKMn56F/duPSU4WA7juR8eGo0+/ZDmWjYSUWFRX1mH4+IEoLazAtLmj8f4/VqHfgD7YtGo3br9/BjKz+gq3YruTiAYM58w2Zsek8cmkSZOccwMPb9VrAMNqWssduqeG22DAM/qTTJgwAcOHD/fwqeUe3e8qYASII1zthXq89X+f4f5v34L9O44h73QRYuIiFEcxZFQGVry7Ed9+8i5s+HyX5AuvQ9H5MkyZPVpxH18u3Yy4hGik9U/GuGnD8OKfP8KI8YPQUNeAG++cgr/L7/FTs7BPAOWOB2cgKjbKrlhXGjAcP7+4htDakrHA0tPTHX8DL2jRawCDY8HBpjhn3LhxHjs0Bw8eBNniu+++GwxQqEv3KNAdwKirqcd7L63CzQun4Mi+kygrrkJ8YhQSe8eid99kAYwNWLhkNnZuPCKdbME5ET+NnTIMwaFB2PX1YakbjaiYMAwbPQAfv7kOw8dl4vzZYsyYNwFvPvcZZsnn7s1HBECuQ5JwLvYER9SA0b150dbVTMb2ySefKEdaT5VStPVcjjzmVYCxUfIR0Ovbk+2nuWhQtMaQBOQ0PFGB78gJ2t22ugoY1F+Qy1i9bBtqa+pED2FCfHIsYoXDiIgOQ+awvli1dIuIn1pQX9uIybNGYuWHmxAZE67GrP/gVPQWPcaWtfsREhqMCNF5jJ48CGtX7BQuJRKnT+TjpoVTcXT/KST2isHICYO0SKq7g93N62k0w1TKjFCrIwG3TUyvAowTJ06A5rWeFFOqrWGx5sygxZc27WuLQrYf6ypg8A60fKLCukwU26GivzCIfsIQINZPgiYEgabGJhSfr1BcRIwosl//63KMmzpMcSHxAgIBYhlVLopwiqESU+JFlGXAhYoa1Nc1yfWB0maoWFyZ0NRkQqSAkGCPzUVzGDaTyuaK3HBSF6oV3u2TzKsAo6qqSgUN4w7Bk2JKtR4emmbSmY/mtcwkqHc7rSlk++/uAAbvQg6PnIbFgunyis7f1nPKlFbGbPemwxiY1U9ZQZmU6a2FS2E9KrQtprj+xJuLJrjNqg25i13iKPZLAwap4LjCsWHAQQYCHTNmjOMa9rKWvAowKM557bXXVJ4Jd0/X2tk8Ki0tVQHQmONDR8zsjFrtn+8uYLTf8rVnGHeopYXAcO05Rx/RgOFYijJXCuPR3X777dp5tgPSehVg8DmZmIjZ90aOHNnBY3vGqU2bNiEvL08p4YKC6GGsi70UcCVg2Nu37tTXgNEd6l17Ld8z5sCgw57m6K+lj/WI1wEGF1mGcZg5c6b1GT32s7a2FsuWLVPxsRjRVhf7KaABw36a+eIVVHYzRM+CBQt88fFtfmavAwyGJqZpKmPBeENo4uzsbOzcuVM5JGozW5vn9aWKGjAukUJ/6YACtEzs06cPJk+e3EEtfcrrAIP5shkLhkmJoqKiPH6EzZJZjc58AwYMwMSJE70CBF05KASMtz96FXd+07vCmwdKrCqGK9nxxSmVDyM8XPvsdHVeWZ1+b7jhBq0v7ISIXgcYjDZJ5dXs2bO9ZvBPnz4NBidk2JO4uLhOhlSfvpICOdk5+MebL+D2JZNVkD/xr+P/Hl3EyEriWPnh8O6TOLu/Bj/9yc8kfEmwRz9TT3aeBia0SuT7FRkZ2ZNdcft7ex1gkOL0+LY6vrn9CNjQQZr8Md8HRVLUzXiDqM2Gx3ZIldKSUjz73P8iZWA40gYmKTNWZ1ox0WTW2aDEezTWG7F/Sy6yMsbhrrvvumie6xCS+VwjdNhjumTqL3Sk6I6H3ysBg857JSUlKtR5x4/vOWepkFu+fDluu+02eLrJsKupvn3bdmzZugX+wRJm3N+5d6+prpGcGcEICgx06o2Mjc2IiYzH/NvnIyExwan38vbGaShDsZQn5tJx9dh4JWBYTeQWL16MQCe/uK4csK+++go1NTWYN2+eVz2XK2hYWVmlvHjtidfUlX5tWL8egwYNRp/UPnY749lzvxABJUYB0FGN7aHatXXJvVPhPXToUGRlZV1bQR+5igJeCRjWrFnethtnzgyK22bMmKGU4FeNpP7hFhSgtzDTBDMIpi7uTwE67L3xxhtKGpGYmOj+He7hHnolYJCm3DUwzDkti7yp7N69W2UWpLw1JCTEmx7NK57l/fffV9GSadWmi/tToKCgQOkH6bCn9Redj5fXAgb1GEy3SPNabyoNDQ0q5g3zZeiYN+43show3G9MOuoRk5bRCpHpBHTpnAJeCxiM+Lp27Vo89NBDXifvz8nJARV19957rzYD7HyOu6QGgTw/Px9r1qzB4MGDQc98bZzgEtJ36yYMJZScnKySJnWrIR+52GsBg/J+iqUYTCwhwbusSOjMx5AhvXv3Vp6p2sy2599WcrPPP/+84mop2qD58z333NPzHdM9aJcCfI/os8Wx0gE+2yXTVSe8FjBoDfPpp58q5fCIESOuemhv+MHd7BdffKEAkTskXXqWAnV1dXj66adx6NAhJQt//PHHMW3atJ7tlL57hxQoLy9XwUoJ7Nphr0NSXTrptYDBJ9yxYwfoxUkzVG8rNAdkCBTmWmAIdB1hs+dHeOnSpXjvvfeQmpqKX/7ylzpMds8PSYc9YNy5PXv2KP2FVnh3SKpLJ70aMM6fP4+VK1cqPYY3hgcnGFIGe8stt6jAaZdGVX/pEQowUOSf/vQnJQ9/7LHHtNVNj4yC7TelYQw5wzlz5th+kY/X9GrAoPfm66+/jptvvtlrF9TNmzeDARfJRWknrp59m6n4/s///E/lMTx9+vSe7Yy+e4cUIIdOPSAz7HmjyLrDh+/GSa8GDNKFMZgon7z++uu7QSb3vZQ5M2jKSX8T7ana9jgxnWp1TbWEfzC1XcGBRzds2KCspJxtIcWQVYwtFhqqfXG6MnwE97feegu33nqrtmazg4BeDxhHjhxRcsoHHnjAa4P2UQ5LZSujbYaHh9sx/N5ftVl2kmfPnMW+vTthrL0gYV651Dqv1AmAB0p2RGeGpPFTEXf9kNgnXTkJaoWt/eNJrpxGMQ8//LDmzO0gn9cDRmVlpXJ0oyVETEyMHaTxnKoUvdGEuG/fvtrMttWwXaiuxj/+/jyMZ75G7zCj00Ob+4sRAkHKmYWQ12QGTjXGY9aCb4kIbIaOVmsnwRmdlv5M9GXSxXYKeD1gMF0rZZX0jGaAMW8t9FZlcEKGDGFQOl0sFDh2PBcvPfPPWJJxDnGhsph7CWHIKG3OA3Jj5uGJn/5MouMavOTJXPMYjPwcGxurTZ/tJLfXAwbpQWuIatlp3njjjV67E6MSj0nsaR7IMM3azNbyJhw8nI2P/u+f8OjAIgT4+QuH4dzdv53vX5erBwpgnLwgY143Bb/4zb8gIkzrMmwlJn20GHCQek0dJNJWqlnq+QRgMNw5M9bdf//9Xh2wr6ysDPQFoJktfQF0AQ4dycGHz/8THsksRICT9ReupLdBAOOUAMYqAYyf//r/ISI81JW39+h7VVVVKUMR6jW1zs++ofQJwKCMnzsK5uxNT0+3j0IeVnvdunWgB+v8+fOdqnj1FLJowPCUkXJdP0+cOKGceu+77z7NidtJdp8ADNJk1apVShw1d+5cO0nkWdW5e6LOhmEpMjMzPavzTuitMwCDOm0KtmxhWNqqa5aLJSV3u4Xnebqj9jWH0S75Oj2xdetWMNYcIyToYh8FfAYwzp49q5TCDz74ILzR6/vKYd+7dy/odXznnXd6tQjuymdu77s9gKHWcLFyYqFOyPLVurITIvzUQl7Z0IySajMGJQWKRdS1dXktCy2mqiWVasEFqZvIlK0tMMmp3FIT+scZEBTAI2xfNCtynPcLkH/OVJpAQEiJClDts63WRQNGa4rY9pv6Cyq809PTMWrUKNsu0rUuUcBnAIOZtd59912fiExJpySa2Q4bNsznc2bYChhcrBvFr+9CQ4voOoCYUH80mJrRJMfMYloVIkZI9UYgIpgLuhHrThhx/+hQxWnEhPihXpCguhEIFhCIkt9Guaa2UXxAKozYkWfEd66LQFmtGQ3GFnx6pAEPjQlTbERtkzjgCZaw3To5JwFUseZEA9jmjYNCxXzWAj6X3tiLXzRgtKaIbb/r6+uV/oKSBkZ71sU+CvgMYHDXx1wFdKhiilMG7fPmcvz4cZUzg4lhfNmx6/DRY/jgud91rvSW+bAnrwn5VSYlChrdOwjnhYvgIq8AI9AfJlm8CQaxYf54b18TpqYHCFAAMzOCsf98Ey4IQFCMNDEtCIVybV6VGRV1zagQEFowPBS7zjVCmsGBAjOWjAvFgUKjajtQ5FO8Zn9hE+iMfqjQhGHJAbhlSKiAmAYMR76ndNgjh0FJg85YaT9lfQYwSJrc3Fxs27ZNRaf09rhL1vDucXFxSp/hyTkzrCIefl75x3wGfE7reY4xj1l/c1NwPPc0lr/8h04Bo152989trUNWkj8q6lvUjr9KFvpY8d0Ilu380eJmzB0UhPW5jZiUFojPso14ZFwIPs9uRFayP9afNGHWAIOqNyjBH0eKzZiSHoi8ymacrTQjOcIfQdJO3xh/4TCMmC5gs/2cGTMyDNh6xoRxqQbsPW/CncND8PGhRgxOCsCtQ0I0YHBQHVgYEYF/ixYtcmCrvtOUTwEG2dG3335bKbt8weyU0XoZAv22227ziHg5dLLkgk+rNuun9Rh/86+t3wQNa6HokfUIFvRJKSopx97Vr+Eb4ofRnhKZdavqzfjr5jqMTAlQWoWoYH8U1zZjTJ9A1Dc140SZGbcPC8UrO+swSupsP2fCj6dHCKdRK+IqP+zk4i+AQZFWH9E9bD4tgDIhFKfKTdghdSODgOEpBvSNNuDFHfWKgzhYaMbUfgaUyH3ihWvJKTEp0dWbu2uRHOmP24ZqDsM6ro76ZA4Zchb0VdLFfgr4FGCQPGRHIyIifGbCMLw7F1lG7HW3mP/sF0Gcf01NTSrUNBd86mAIGvzjdwICOSR+XgkG5BJbP9OVokZeU1xagT2rXhHAKO4QMJqEw1h6qF4UzX4IF6+43tEB2JNvlIVdAEMUEueqmjErI0TVyeoVgDXHjJgzKFBEUSZMEI5jqwBEVi8D1dfIjA/EqmONsuj7oVxEUnWip+gbG4BSAYbkCBF95TfjhsxA7Jb2x/QxKD1JWkwAlh9uUAC15Ywc722QOiFah2H/mtbuFZw/zLA3ZcoUbUHYLpU6PuFzgHHy5EmsX7/ea3NktB5uxtKiAnz27NlIT09vfdrlvwkIjLDLPAT0vq+oqFAmjgQPLvAEAAI6d4H8pM6Jf6GhoeoYz9OLnXX511k5kn0c7//tt52KpGjRVFRjwolSsxJBDUywLPDc+RvFFKpG9BOpAiLkNBLC/XBSPmkhReX0YLGWOlthwlnRWUQIZzJMfpfXmZFdLJyFnI8I8hOugyInI0JFwR0kOgsC0bFSIyrrmxEn9xgiVlQ5xUbF1VAExnulCjfSXlwqqaId9zob/Fbna2pq8M477ygHXs4tXeyngM8BBnetFEv5UliA7du3gyldmTOjJxR93NnRP8QKEAQJggZ1DXxxGdMnKSlJKecJCOQcruQU7J/Wl6+w1UqKV9Ck9bJw63Ib7Cf7c+Un65rluPUaQpdJfhN4WPgvF3v+blttbaljbYN11DXySdGZXHpJFyOHrikaMK4hSacHTp06BeaP8ebI1Z0SoZsVfA4wSK+vv/5aLViMLWXLLrWbNO7xyyny+eCDD5TduSttz7nAEihKSkpAPxg6SzGHA3OQEyASEhKc7hNjD2D0+EDZ0QENGHYQ62JVGrxwPmqHPftpZ73CJwGjoKBABepbuHAhoqKirLTw6s8DBw6ADn18ZleY2VL0RDrTMo0cBSPoZmRkKLBwJZejAcOrp7XND0culwYgaWlp2mHPZqpdW9EnAYPy8vfee0+lZhw5cuS1VPHCIxTFMWQIM8ExbIgzOSvGsqKuiFwFg7uRxikpKT1CVQ0YPUJ2t7spuWzq8mgd1adPH7frn6d0yCcBg4Ozc+dOUKbJLHW+Egr8zJkzKmovc2ZQHOToQhEUHaN2794NKhjHjh2ruApnglNnz6ABozMK+cb5oqIila6ZAQd1hNquj7nPAgbl6cyFzZy+PbX77fqwde1KsuVMssRyg0TudTRQUgTFwG6M1TV16lSlzO5aTx13lQYMx9HSk1uisx7Fskxx4CiDCk+mR1f77rOAQYKtWLFCWeTMmTPHZyYRxUUUTTGWDlO6OqpQT8HQK1Rqk57u4knP0CDv/u13+Ibkw6CntbcUPsrRshZsaJ6BX/zytwgL1QmUOhpbJhcjp+vt0ao7ooEjzvk0YDAu/saNG9Wug3b+vlJoJUYW/fbbb3fIwk7nOvq2UNFNCxRXKrU7G7Mz5/Lxwv/8K2ZH5yAl3GLg2p6Za2dt2XJeWdXSJNaWyl2sQ9hjfKuthUFoHnwPvvnYN2AQ3xRd2qYAOeu33noLEyZMwJAhQ9qupI/aRAGfBgwqwrjbHj9+PAYNGmQTwbyhEvULzMzH52ZE2+6W/fv3Y8+ePcoCKzo6urvNOfR6epB/JM967uAGJAddQIDyxXboLa5qzGy2OCD6q3SwV51y2A8CRp1ZnAMNfXDrwgcxYniWw9r2xobo/8NI1dRf+IpVpLPG0acBg0Sl8psxlxhvydEyfWcNmiPaPXjwoJLpUgFOJaDVKc3Wtrlr4x8X5A8//BDjxo1DVpZ7LlzVNdU4cPAIKiSFbXNLW655tj515/VycnKUj0lcXKxyvuv8iq7VCAoKRr9+/TBk8ECfEad2jVLAsWPHVNDRhx9+WNOqq0S8eJ3PAwYdeaj8ZkpTOpT5SuFCT+6Kiw7zAlDnYM/zkztjCHU65XGRZBh1Wl71pEWUO4zde++9j9GjR2Hw4MHu0B3dB6EADT1oVs54arp0jwI+DxgkH5XflLsz3pKvWFAwiB/FSHyZuMhTNEUuy9ZCNv8vf/mLcs5jeA8GdLvllluc7rlta/96qh5FH6NHj9ay8p4agFb3JedMnysC+JgxY1qd1T/tpYAGDKEY/RO4cN57770qtpG9RPTE+gz+R6Ck9yu/M6nU448/bjOHQOfHP/zhD4q7oCiPoi2mhPUlsV5b464Boy2q9NwxGmQwdhzDAPlCSgNnU1oDhlDY6gVNCwpf8fymSImAsXbtWjCi7YABA/DrX//aLqem559/XllHkW4/+MEPkJiY6Oz56vbtM2bX8OHDMXToULfvqy90kNaAq1atUgYZ2mGv+yOuAeMiDakEPnLkiJpYDKftC4URYwkYtFEnx/Db3/5Wxdqx9dm5ONLa6pvf/KYS59l6nTfXIwinp6cr0PDm5/SUZ+M7TfN5Ouj6OvfriDHTgHGRilw8GSufrKsjHdocMUjObIPK73Xr1inQWLx4sZK/23o/ivE2bNiAn/3sZ3A3c1pbn8HR9Qi+NCIYMWKEo5vW7XWBAnQmJWdx3XXXdeFqfUlrCmjAuIIiXDgJHMwb4cnWPrT8ampskCejxX7nhVni1q9bj5iYaIwWxaCfjdflnsxFwfkCFcyw87t0r0aYvPSeIFJghkMGt9OA0b3xdsTVNPumTmny5Mkqppkj2vT1NjRgXDEDaCL6ySefKLFUXFzcFWc84ystQs6dO4fde/aitr5R8IJpfTr3OSZAmMThjJZP0dExYilm2/M2NjahWaytQsOc7CUvL35CfAwmiqeuu48L5eU0T3Zl3hHbRsv3almlBjRm0Q57jhl/DRhX0EgNUakAACcdSURBVJGmprQaYu4GsrCeZmLLF+TV117DscJ6hMb1vuLJOv9KkODzNjPvqI2F9XmdPdfY2PRV1VqazWgoOY05143EPDeXRTNECs2M6UWvS89SgNGoKTJdsmSJx73LPUu59u+uAaMVbZjHgfGl7rnnHo8QgVzZ/XOSf+I//vtZ9J4iIZxje4mnsb1ezVbWwnbQsIi97Kl/ZY9t++7vH4Di3H3wz9+BXz75cxkX983HzBSgVK5SDKJLz1KAYMEwOFR46+IYCmjAaEVHmtjS85thLuiA5Ukl98Rx/M8LryN91hIEBEr0UhFReUPxlwW4pqIIFbs+wm9+8RPExjs+l4ej6LRlyxYVMoVJqnTpOQpQPEsrvszMTJWXped64l131oDRxngydj7TmZLLcKfIq2109apDuWI++Je/v4a+Mx6GIUj0Cl4CGH7CYdRWFqN891L85mc/QlyC+/p7MDYZ/Vp0GO2rpqbLfzBy8ptvvqmiD9BqTRfHUEADRht0pKkpuQxmjHNENNc2buGUQxownEJWuxpl5N78/HxlaWfXhbqyQylAh70vvvhCRW9gjhZdHEMBDRjt0JEvPoPqMSihp3AZrgQMKrzJ9rtCh+FJHMbRo0eRm5trV1yudqagPtwNChw+fFi9v3fccYd22OsGHVtfqgGjNUUu/mZ8JXIZtJbylMijzgQMZTFGkyjBCPptmI1NCDAEwpL/wU/8VgxCOZpayYcAiQVM2iGunYc9CTBomcNUoExO5cm+PHYOkdtVp08VIzZoXZJjh0YDRgf03L59uwpMyKB6nhAuxJmA0dRQi6b6WgSFhMMgodDzju5GbK9+qBHdQlBoOKIT+sAozoJmUxNCIqJFh+I4pbsnAQbFUVR8c2fL3Oa6uJ4CdNijwpvRaX0pMZorKK0BowMq06+BoZEZ9px5I9y9OAcwRPSEZpzP2YeGmnLFOaQMHIndn72B9FFTUHw6G1EJvRERl4Sa8mK1qw6JikXqkInCadhr1ts2hT0JMCg7ZzgKbjK07Lzt8XT2UUoHGKF24cKFbu/o6WxaOLp9DRidUJS7xTLJ1MbkK+7OZTgDMPzEW9xkbMCx7asQEhaJ0wc2Y+Tsu3F851cYfN08nDu8DUnpQ1GWf1KJqxL6DpQ6X2PC/G+DaUodUTwJMBgt4LPPPlOLlfYudsTo29/GWfFHYpwzZtgzGCgq1cVRFNCA0QklGZeJKUhpJunuQQmdARj0gaitLMHBdUuRkJaJ4ztWY+Sc+5B/dBcGTyFg7EBiv0EoyzsuIqr+iEnpJ9zHK5i04Lui4wgW6nbfF8STAKOiokKFl6FIKjY2tpPZpU87gwLc5JWWliqDFWe078ttasCwYfQpYmD+CAYldOcQyU4BDFFsVxadxdFNnyJt2EScPbQVqUMnoLLwLOLTBqLhQgX8Aw2iv6hHTHI/RMb1wuGNyzBqzv0CGJTh+xZgcJ5YNxi9evWyYXbpKo6mAOmfkZGhHfYcTVhpTwOGDUQtLy9XeR8olnLnrF3OAAxaR5lMRpScyVY6iaDQCInL4w9yHqamBoRGxaG2olgU4aGi7I4RBXgYyvNOCjcySGIf+p5IigpXOozROoeLli6upQAjNbzxxhvKYS8lJcW1N/eBu2nAsHGQV69erbgM5r12V3NJZwCGIo+ABv9jbCr/AINEqDUp0JCwg3LaEhGXZrQXrW7lGM1vu89ZWIfGk0RS7DMBg2FlmHlPF9dQgPOPYM3NHQOIMkJtaKiToyi75tHc6i4aMGwcDlq/LF++XMlFk5KSbLzKtdWcBhh8DKIBiwIC5WwhPy5+XkKKiyChfvsuYHz88ccqidLEiWIppotLKMDoDMeOHVNe9oWFhcoPJiYmxm03dy4hihNuogHDRqJy90LLC3IXN9xwg6yfFxdQG693RTWnAoYrHqCde3gah8F5wvmi40m1M6BOOEzd0bPPPou8vDxERkZiypQpmDNnjvaFcTCtNWDYQVDuXGgySRt7d0zkowHDjsF0YlWGOC8uLlbzxIm30U1fQQHmsvnjH/8I5vCmYQoNVO677z5tVnsFjRzxVQOGHVTkrpFiKdrXz5w50+24DA0YdgymE6sy2jHDg9x///1uN0ec+Ng92jR1GH/961+Vl/3AgQPx/e9/H1rp7fgh0YBhJ02ZApVpON2Ry7gMGIsdGprDThI5vLqniaTIXXBjsXjxYrd39nT4YPVgg6+88grWrl2Lxx57TG3oerArXntrDRh2Di25DIql6JTlboHNTp3MxTPP/QN9Zz6CYInv5MgAgHaSyaHV/SSw4YXiM7iwfwV+8+QTiIl173zrVMC++uqrKp+Kdt5z6FTosDEGC6WX93e/+12VJrfDyvpklyigAaMLZOOk5E6GXEZ0dHQXWnDOJcViyfXMX59FQN+JiErqKzZMjvGDaLe3Vr2/4wyi2rxVs+T0Lsndi9SgKjz+3e9IuHn3NpckUNO0lorXAQMGtPlMvnKQG6yqqkoYjSanP/K2rVsRGRWJ4VnDHeAu2n53/cXgJVLE0sEShNPXigaMLow4FWzLli1TMtKpU6d2oQXnXEKnpZWSNGbnwRz4hSeI/DzAYvnqnNup0Oa8QYD4ZjjCo7vNbgoYtZgaEdBYgVtvmq28d93RQq1135cuXaqcPH3ZtJZgwfwgh44chdHs5F2FDEB1dbUEfAyFQeaj8+5GjyQz0nqnqLkYEeG++eVbz0lH/NaA0UUqMkkOk8wzjSvN+NylMMLu4UMHUS4xjZr5klq5AId30E8SBZ1AkOyyGGOrRRYHpxR5hEAJPZIiYTaGDBvmMVYv69evB9OE3nTTTU4hiyc0Sl3OS6+8ihJjKEIj4524iFuoYQl22Yxm56GFvE4S+aCpHs2V57DwltmY4mO52zVgdPHNM5lMKsgcF8sJEyZ0sRXnXab0F8rJzkn3ELacKTCjRAQwbdp05wGGdN9RIUacRIk2m6Wl1MGDB5WlVJsVfODg9m1b8fL7KzBg5oMIDOZO3IkruYvpeXrXl8gIr8EPfvhjt44v52iyaMDoBkVPnDiBrSI3Zdz98PDwbrTkmZcyBANNjN1N+e8O1GQipS+//BIPPfSQzzqPrVm1Ess2HMDgGx4SbtfsRG7XhSMumMdMkwXHdyOkcAd+/Zvf+ZQlnAaMbsw1WsN89NFHoN33+PHju9GSZ11K7oV6nJUrV14CDHeNr9VTlL1w4YIKWMlUrfHx8T3VjR69rxUwBs16UDhQAQwvKf4BgSgkYBTtwq9+/Ruf2hBowOjmJM7Ozsa2bduULsNXuAxmNNu7dy9275aXJiQEkyZNwogRI3TcnivmEg0QGFNq7NixPmsppQHjignhJV81YHRzILkw0CJm8ODBKkJpN5vziMu5e37mmWdw6tQp5ck8Y8YMLFmyRANGq9FjhGMaREyePLnVGd/4qQHD+8ZZA4YDxpRcBnfbvpLHmeaSL730kvJFYQrMb3/727j++usdQEnvamLPnj0qeirFUr5YNGB436hrwHDAmDY0NKgsa1lZWRgzZowDWnT/Jqjsf+6555Tj4u9+9zvo7HLXjhkdPGle++CDD/qUJY2VEhowrJTwnk8NGA4aS5pQUq5/1113+YTFFHMmP/XUU8o57Sc/+YlPKf5snTIMuU2Pb/rqMDeDrxVHAgazPNZVlUq+Ln9ExCQqqysm9Lpkck2L3Ys+R/QJYn3rb2XNK2bgrO+IxF5a6e1rM9kJz0uLqQ8++ABDhgzBuHHjnHAH92qSYqkXX3xRJQryVZGLLSPy1ltvKcX30KFDbanucXWsFnMUTbYujgQMf2n/zP5NMMu8Sx08Fn4SwtxfYoyZTU1olhTC/swfL4BAsAgMCYfJ2HjRMqtFzgWKs12jOJmGCcBI9INu+oNowGg90vp3lyjAkNb79+/H3Xff3WPpIU0mMwoLC9BQ33B5h9Wlp+n8osOHjyA8LAzp/dM7r9zVGhd9vaKio+CumQ47ejTGHKOT54033thRNY89x40D5zzNqhMSEhQnRcs55qT4avVKLF1/AI4wqw0IDET2ls9Rfv4Ueg8arbiFRMkbf/7Efgm0GYnGumrJKR+NJvlMyRyNotNHJJ2wvwUoQsLkswlhkn8+qX9Wt018NWB47HR1r47T3PTTTz9VJqbUZ7i68OU9cOAgdu3ZLt5FZhXGwJl9oIWYn7+fit3jzPs0m5sRHBSBWTNuQFpaqjNv5fC2rc6d1GN4g68Kx5zcNP1w+Ef93WuvvaZyaffr1w99+vRBcnKy+jx0YC8+33YMA2c+0O1FOiAwSADjMxSdOozBk2/G8Z1rkD5yKnJ3fYWBE29CzrYvkD5qGioKTiNZQOHMwc1IzhiB6rICFbU5tlc/lOWdwNibH74oleq617kGDIe/Jr7b4OHDh1XyHHp/uzqaZVVlFZ5/4TkExxvRp39idznvTgfRGqaq669ep7dQXBIB4/jBPPRLHCahNhZ5lGdtZWWlcu6kHoNe8Z5QKGYiV0Rg4CaIuhgCA3/zOGNkESwYBJK/V6xYgZMnTyo9Fp8xIyNDmRKXFJ3Huv3nkDnjfocAxtGvP0FddQXGz3sEX7/7NJIHjEDZuRMYN28Jdn3+GrKuX4D8nN0IDApFyZlsDJXfZedyRDzVhNQhY3FgzQeYcPs3hfOQ4ITUZ3SxaMDoIuH0ZddSgC8WdRl02HI1l3H61Gn87YX/wfxvTEFMfITklXbqUn7twzvpSIDBH7mH87Dzy9P4xc9/KZZZnrHwkhzckX/44Ycq3lhmZqaTKNT9Zq3gwOCV/LMCBcGBz8BCIKG4ifoKckthIo4MFFHRJ598AiYWI3fRv39/FYySn/v37sZnW7MdxmEc3/4ligUIBoydhbOHt6L34HEoPnUEw2cuxKENyzB40o3IP7ZX4laFoTw/FwOFEynLO64U5L0ysnB003KMniucngaMLk8YbSXVZdK1fyGtpRjWmRZTruQyThw/gZfffEEA4zoEhwSpF7z9XnrOGQJGWWEV1ry7Hz/98ZNISPSsUBtfffWVmgfuFnOLIFEhUY3JBdXU1ChOghwD/6iD4NwlKDCCAfO+hIaGqmM8R+6CfwSRjRs3Ku6DIJGWlqZAhbPrq9Vfig5jv0N0GP6irC4rOInyvFxQPBUaGYvopFRUFp4VEdQw0VkcRULqAFwoK5S+B6K+uhzxqQPFsqpMcRMRcYnCdRxDrwEjFdix310tmsPoKuX0dW1SgDs05stgfClaTbmqnDiRi3+88X+Y/+hkhIQGew9giPKytLASa98/iCd+9AuPAwyKKencScfOntZjkFsgQBAoqqqq1B8BIigoSGWpi4uLU97p9FAnWHRWuPCSqybnQQC5sjjSSortcomXHa6Iw5pgCAxVQCCyLjnor+a65f4t8p1ByK3HLVeqrhEkaG7bzaIBo5sE1JdfSwFyGcePH8eCBQtc5qPgDoBh3XVeS5GuHwnwcMCgzwqNIRYtWmTTItx1SrV/JTcxRZKRsby8XHET5C4oTqJ/CJ0u+UmOwpGA5mjAEEQSIJBCzkaJW1sucTnWeac+WUX+FBdhBTEBC2sdNtGdogGjO9TT17ZJAcqAqcu47rrrMGjQoDbrOPqgvYDBd4mbLn+xdHKUvqOhvlEtRIFBAQ5r09MBgwpiWhLNmTNHyfcdPe7ttccFk1wEgaKkpER9J0jQPJl/NIMlZ+Gs4nDAcFZH7WxXA4adBNPVbaPA9u3bcebMGSWK4Ivq7NIRYFg2WhaRAb83NYqsWsQTQaLrqK9pRHhUqAIOxbXL+bYAhDu0y0UJCC79JOhUVdTi0K5jGDS8H8IiQuUvRJ23tmn9ZNuWtiyfV/7m3rC1fNnTAYNEIIdBcY+r9BgEioKCApw/f14psWm9lJKSov5clSFSA8al18NrvmiltxOH0poTYfr06S4Jcd0eYHBxbqhrUHqAZlm1U9ISkHe6CAXnSpHaLwnHDp/F2KlDxbnJhPo6cggGJKfGXyWeYBu11fXSRoXyvUiR80ZTMwrPlqjfvaWdo3tPYvuGgxg7ZQiaGowYOWkQLgiIGKXdkLBgsVYRT1y5P+tWV9agoqxadrgGJPaOQ1lRFeISo8ThkDb+zYiJi7wEHN4AGHRuox7jvvvuc+KMs+S1zsvLU1wFxU5UVKempipldFve2M7sjAYMZ1K3Z9rWgOFkujNXBnd5DJ/hbC6jPcDggns2twAnc/KFm6gXH41k1F6oR25OHgaP6Ic9m4/ihtsnYv/2HPTum4Si/DJMmT0KSX3iL3EatIzZ+fUhFAhAxCfHYIhcl3PorCz8taKMbEF8YjRqpM3CvFLEJ0Wj8FwZJs4ajr1bspHaPwn5p0uQPrA3igrKMe3GMXK+BKVFonwtqcKkWSMFwIpFkRmA+toG1QfWJXCweANgUHfAZFvMwMdF3NGFvhKcZzRvJXdBcVOG+ENQ9MSx64miAaMnqO7ce2rAcC59QS6DC8XMmTOVjbozb9ceYBgMAQIKR1BWckEtyPXCbQwZ2R9F58uRmdUXezYdweQbRuLTt9Zj0bduwor3vsbI8QMx+rrBYmJpWbTZxta1+1Es18QmRKFfZgq+XLoVc+6YLFxBI3ZIKs6REwajWjiK8MgQFAro9B/cB5tX78OCh2fhjWdX4L5v3SwciISKGJ6OcgEKAsT+HccwecYIxdF8/MY6aTsSdzw4C6HhIVeAlWdbSXHMaZ307rvvqjDw9Ih2VKF3P4GCok8CBcGof3+LL4QjFdhd6a8GjK5Qzb2v0YDhgvHZtGkTiouLMX/+fOX05KxbdgQYy17/St2bC0xpUTkmTB+Oc7KrzxozANvWHcBEWbR3iDjpwcfn4Z0XJMyC7PAnzRwhC50ltSZFUmdPnEf+2WKcF24hY2gqDuw8jhtum4C6mgbsFNAZNXGQAEYNYgRQco+cRcaQNOFCRIezeDZe/I8P8I2f3Ym1y7crcRO5nb4DUrBPuJqsMRnC6aTjk7c3IE4A49b7piMsMuyiJYx3cBgUxa1atUr5MzgqoRI3I6ckiRXDqNOsNT09XSnVXen709Fcph/GR+v2Sk7vxSJe5MaDei/PLwx0WJC9HWEle1WKVmdLDtyJYhowXDAa3PkxK98NN9wAR+4uW3e9LcDgQk+F9KqPtyJIdBOBojOgKGjY6Awloho8sh8O78lV3EBRXpmIpiZhzSfiRds3GVljMy5xGNIMjsniXycireLzFeiTnoSaqlrReYjOQez4o0XnECeiqAvlNeiVmoC92yiKSkZZcZWIoMZiuXAvty6ajt3C6URGheO0gE9KWiKKRIQVHiUew+KcFxkTKWKtWiXyIoB4k0iKY8UQ+IwtxY1Dd8REZrG6ouiJ4ThoLktl9rBhw3rMZLf1PLT+3rt7F158exl6j5+P4IhYiwuEMzGDk5SWFc4scguzcIv5B9YiK8mAb337O1fp+px5a3doWwOGi0Zh8+bNKCsrw7x585zGZbQFGHw8qwVTaWE5ImRx5m43XKyYLoj+ITImXCmzDbJg00IpoVes4kDMJr54/JM3RArbMAjYlBdXKl1MSt8EAYpm0U0Ui8UTkJqRrJTbxkYjomIjlS4jODRQvb9xot8oEp0GFekVZReUF3qjKNcvCDjESN1GUZDTeYz6E4rLqFxP6h2v+sl7e4MOg89B89bPP/8c9957b5dzphAg6N9DERStnegY2rt3bzbvdoXOgW+/8y7yq8wwRMbLPOm+01x7D0mc4LzmBonz0ZnF3FCDoMYyzJ83V9Iy+0bCNCs9NWBYKeHkT3rXkstwpi1+e4DBR7PIs+Wtuvg20fGJX/mi8SWzvGwWc9oA0VcQGM6LYjpA5Q+wAEb6oD6SU8BiHmytbwUUggvbshYCjMVc1tIm709xGO/FcvHj4r15xHK9tU9s31q8BTBotfT2228rTrNv377Wx7P5Mz8/X4EFRVG8njk23EX81N5DENiyJUzOBQE6i0TKCau5NElu9IQA6YDMAU6OntyCYDGR79cvDcOyhjvdkKU9uvbUcQ0YLqI8F8B169ahurpaWUw5QyHZEWDY85hc1GkKa2xsurSycyEPDhFPYLG4unIxt6fdrtb1FsDg89MfgxZMU6ZMsZkcVJhTV3HkyBGl1B4+fLgK9GdzAz1ckRuFBrHiurwFcHyHyKHSUfauuxaKqXaw429wRYvUWTjT4fGKW7ndVw0YLhwSmlZ+/PHHuPnmm50iRnAUYJAkBA1yCdbCDT+BwtVgwft7E2DQHyMnJ0eJpay07eiTQQEJFOQuCDTMGR8REdHRJT55joBBb3qaLbs71+XJA6QBw8Wjt2HDBhUVlKIpRztSORIwXEyWDm/nTYBBuT7NrJlQqTN/DMagoqKc11D8NHDgQIfPmQ4J70EnKe57/fXXbaKrBz2W23VVA4aLh4SKb4olbrrpJodzGRowXDyYXbidWSycqMeYMWNGh3GlyFGQG+HOmblV6K2tS/sU0IDRPm0ceUYDhiOpaUNblOd++eWXSuTDPM+O1GVYAeMOb8uH4eHRaltPC/pj0MKJgSlbFwIEraByc3OVmezIkSOVKKp1Pf37agoQiF999VU8/PDDPqtfuJoizvmlAcM5dO2wVZpXksugPT7zHzuqnDx5Cv/30l9xuwBGtJjL0krJGwpFUqePFWD757n4xc8k415MtEc/FvNjHDt27Bp/DEY45jlaFtEKimBBhzxdOqYAw6KQc6d+kCF4GGgxNja244v02S5RQANGl8jWvYuoOP7ss8/UYkBdhqNKWVk5nn/+WSQMCBYv6iTFvTDOk7OKvyjGxThXFOGW8CHOuA8zINBiK3vvWcQEpWLJkiUev4NkqHGOP/O+W/N889ihQ4dUeA+Gw6d/hSO5T2eMjbu0ydAoBAtyZRTdTZo0yS4rNHd5Dk/ohwaMHhql06dPY+3atcpaxlFWL2TLt2/bjt37dsIQ2nKVlZMzHpOmkn7ipxEi5rbOtJ4yG5vh3xyMObNvVFF/rb4czngmV7RJM9m33npLxRdLT0+/ZDJLGo4aNUpFlnVFP7zlHgTbf//3f1fh3Dk3vvOd7ygdkbc8nzs9hwaMHhoNKukolqLlCxcJRxXKwM+cPiuWNeVoVjv/y6axjrqHtZ1DYsETKmk8MzMznQgYLeKIJUl/khO9SvHLsafYJDExUZnNMuMdTWa1KMU6u2z/tOovVq5cqcKk/OpXv3K4QYntvfHumhowenB8KYLg39133+2R5pJ8QSlSsccJrQfJ7Va3/vrrr7Fnzx4VW4xilBEjRmj/gW6MENMI/OUvf1HiqO9973seL7bsBimceqkGDKeSt+PGGRfovffeU6EiKJrwtMK4SNHR0Zg6daqndb1H+8tMeIxgvG/fPuVoNnjwYK2v6OaIMBo0xVKM1TZ37txutqYvb48CGjDao4yLjq9fv17lzKB1h6fI5ikCoEXPmjVrlHkoOQw6oXlK/100tNfchibVDPFBSyg6bTLaLD2TKY7yhdLUZLxoguF4QwzS9t1338OM669Hn9Q+LiFngMRHc7TzrUs63o2baMDoBvEccSl3RpRn02KGOZ89oTAe1urVq9XCxzAM48ePVwpcbdXT/ug1NDQoU1r6WFhDfCxfvhzjxo1TFlHtX+n5Z6jkz845jpKiAgEMx4MFKcTNCkO+9xIzdYPEenJ+aZFUASEYItwhsxr6StGA0cMjzd06TSyp/GzLkauHu9fm7SlK+/Of/6wWQL6o9Fqnw5TmMNokl/IRIFfBEB/0r2DuCgItxz1MjAZmzZrV9oVecnTf/oNY/9k7iG7Kh4qi7wzQkHloadY5gHTtULSgujkEkRlTsWDh3Yj0kfheGjCunQkuP8KkOlu2bFEmtp7gqEXzT4a34A6ZC9+PfvQjtVN2OeHc/IakE53wGDyQG4OsrCyVZ9va7d27dyvfAebH8NbC5fuFF15Ey1FJT9vHqDYVTuMy6BPkDDBqY3D8/VpQ1uCP5efT8PD3fovhWUPbqOV9hzRguMGYNjY2KuX3xIkTPUY8wThHzzzzDOLj4/G73/3OY8Rprhpu6njozc30qbQkoxUUaXVloT5j48aNKmCet8rCGWzgP//jTxhT/wXGSFADcanxqvLq0ShMXPgzzJ0906ueq72H0YDRHmVcfHz79u1qcbnrrrs8wmKGeow//OEPyjfi8ccf9znlX0fTg4EDCRZMmpWRkaE2AeTEWhc6nJFLI4fhKOfN1vfo6d9mQYyn//wfGFP3BUaIqN+bAIP5A98+HoGseU9g3s2Oi9jQ02PW0f01YHREHRees4a9XrBggccEm3tXTIKpe5ktucp1AajYZngKcg5MssMQH/3792+XNMx1sWzZMqUD8lbFqRUwRgtgjNSA0e5c8JQTGjDcZKRoFrhixQplcTF58uQu94qikNyTp1FXXysSXVEEOrFQ3BIs2c2SezkugOK13aVU2g+xMbEYkJEuyZQCrq3Sw0eoqygsLFRRZpkki454BAtrnKj2ukev/E8++UTyQo9WIU/aq+fJx7sEGEqB7Vzl9ZUGGupOMoZtFukL3yKOceuiOYzWFNG/XUqB7Oxs7N27V5nYtiXC6KwzNF9kGtjju9chAlWX0qt2dl1Xz7cIyMlNJJ6Uc4GJEU5qg3th2twFGDliuFtZYzG/NrkKAgb1EOQoKIay1cSYoe7JpTHnhTcWmwDDuiiTALIwc4NgVV+rmUUAkdLewm05eXFh5w8u7hfbtPy0/OZ3tsG/0lqzqkYRWVSIH8KDuPxbihUcAqSNqsZmVDc0IyXaYGnXWkk+NWBcQQz91fUUIHfw7rvvghFsaX5pbykuKcVfn/43jPHfh/7R8kKoV8PeVtyvvhikYFdxIBrSb5fAct8Vy6ygHu8kDRXIYZ2WIJIMr92nTx/FVTDPhT2FIS047jd4qVivU8CQRdlkbkG9seXiot2CI0VG9IkOQEVdMyJD/JEQHgCj1OFfeJAFPK6isbRhloW/rqkZYYF+kGj46jfBoFnAI0zAgP1gnUZTC2JD/bH1bKPcF4gN80OviABEhwagWsAhOMAPIdIG+Qmj1M0tN+JkmRm3DgtFCzX4VxQNGFcQQ3/tGQowuQ7Z5a6EN8g9dQYvPv1PeLT/aUTLrqnV/O6ZB3LAXbnTO1kpIrsL4/Hz3/wesdH2LcoO6MKlJmgey9AeBAsqrRkaZcCAASrYXVfEZQcOHFAcyp133nnpHt70pUPAkHFlzhYCRI0s1pEhAegd5Y83d9djcr9A5JSYkRFnAYzy+mYFLH1jDegnf1YugLTiPM8pNqGywYxQcfQYmmzAwQIjZL1HbVMLxvQORFG1GWX1LWgS1MiQ609WmCBR89FL7pcaaUBxbTMq6s0IFG45q1cgKuV+eZVm5Mt1Fxpb8I0J1+aX0YDhTTPVQ58lLy8PBI1FixYppy57HuNE7im89td/xpJ+ZxAiO7E2xK72NOc2dSnxKq5twUclI/DjX/8RifGuD6XB6MJMfEULqKqqKqXU7tWrlxI/dcd3hp7f9MfgeHtj6QgwuDHijn/diQbFPZypasFtQ4Lw4cFG3DAgEDvPmTAuNQDnqpohG39EBvuhXBb9hSPCrhIPkfPYkNuIOuFSzsjG4s6sYCw93ChAYUCZcClxwlHkXzALv+2HtBhJxlVuRmKEv+JEqgUM+scGYNtZE1Kj/VFU04xhAjj5VWYFXoXVzQJEzXhsYsQ1Cck0YHjjjPWwZ6Ii9P3331eOcAxKZ0+xAsZiAYxQbwSMUgGMX7kWMCguIidBoKCZLLkIKrUpMrRX/NTWWBKEuEF44IEH3FKh31af7TnWEWAEyE6gUHbwq441Ctfgj5U5Jjw2IRjrcptwy+AgAQEjpmUEYk+eCf2F04gL88eK7EZ8a2I4rGozgk5prQmfH21CutRZfdyIe0cE4fMcIx4dHyJcRTMOFZhQJYt+ZoIBk/oG44VttcJl+CNcuPAiAYTkSH9sOmXGnEyDAEaLcOcQDsUkXEUYjpUasV++f3OSBgyOu7aSsmf2u6jujh071G6WkTftEXO4G2DwZVZS31asTnvH2yPvJQ7DRYBBsRO5CIqeSktLQWMCjgNjQBEsHJmzgqa177zzDhYvXuyV4c07AgyDDOxxWZA/OtiA8amBsmibcPv/Z+9cfpqIojB+YB5UQCRAq7yiEpqIslBiwsIY/wLXrPUPY8PCmJi4NG6MKxKTRlF0QcQEUB4JRJQQpC1Ev99pC2UWQAwUH73JwHSmvXPn5pzzncd3Z65HNiUDfas7VP0ALz/wKGGwM1CE0WjPZvL2QIactz3SPF35tWCP3mzbqNJYk3NFuyeQoS/+Ex2cC5XSVAoqpXRVVqAxvVK0PqWixFGwVQEEEcbkfNGGMiUGXrYrsJcCq2uZ0JYUaWyqGPJQEcauIpnqVo8wqmejvn9mM4CRgm7Jmozk6uDDBvXbgIHylZklJ5XHAhTw6nh2EEXHvX51nHw1xoLiYvXxvf3ETdYCMMiJAxLQYnk/NPtEe0QRrJEg/XQSEUXi1vwa4+PjNjY25vWQ5Pm//fNhgIHRX1cE8HqxYG1KN20VTN4+8vHTmmTMI+WhSBlRxM6oMN0qOfqgesdIbwwJyp0RjPam6hRvlwrWqj4KSnE1K7p+MVu0mz2Bi9RIb2RPlaKiv36lndItjS57Oyp+UOPoV4H9s4BhS/vI5FAmsnkBzKJSYXTQrshm9HJTPSWlua5HGH+gRuLhkpaCy8/TTI/bjgsY+EkwRlAgFHrh2471nA+88Ncl5UhJMTGgFBMx7NUFRsbC792/c63d97oACZSQFqvv2bWCM18utYXOOEHxG9Xfq/m8mCoNNpiOnZoIgGxou6gxeL/ew/6f0wAM7glAIM0EQODpszH3UGIpZkN3BShYhHdajXFMTEw4S4ro5V9rhwGG36tk5ofYTYhNKhKbSV68pt8ZTJFAAwAAWCqyk9d3VzZ3VbwucQD5XboMJtQySMVuy/A//7htd6/E1qKopF01jMdTWzagKCXbGbl8My5NvW9ReWnPhhwc5LZZv6EYD1jh65A6izWWZAOs6iu9k7NS/3wmM5DL5XzFMG/jwxAfpx0JGOoHhZxZLarYWKIU4tk9mS7YnSuh5VRkvN0X6pWoUjoVEPOiHQ50BK6QFdBgKJ/Wdtzjw8jDJsmmI1tYL3oksSSvrEE82MEuHRMl8YKUFdVeVtExpdQAeeh38gbp+2pHaN1KDayKE/9+edfu39DTP6WslWtV7vkkAIOiNSux2XisCRt0WGoUgEQcxx5B8Ih5NgCjVo2XaA0PD/vDCWt1zVpd50jA0EAq8l1yNapGhkVPyD6ysSJZ2gMMfR2abLtosTTO08+X7zhBoUWSOdocsiiKbkdzYFKBg618Hb7pp/isdmBc5WN+ovznfwSMXwAAAP//RERG+QAAQABJREFU7Z15fFTHle9/6kXd2he0C4TYQew7mH21AdsYY2OwwcZ2Fnv+GI9fZiaZ5H1ePvM+ySQz7zOZl8Txm9gOcWyDYzbbYMBmNatB7DsCIYSEQPu+96J3TokmQkjQkrqle1unbKHue+vW8q1W/brqVJ3ya6AACZojUFpaio0bN+KZZ55BVFSUW+VLv34Df/nd/8LLvW8iwN8PzVvWz88PtfUN+PZGLertQGGVE3MG+OPTM3V4YpAZO6/a1O/ULDt6hRvgpE+GH+W8cEgAHPyGgtHgR/FqkBhiRFaZA7fLnZhHaaRm2+Bo4NgNcDqBUKsBZr8GhAcakF7oQFyoAYXVTliMfpRmA4prGtAnwoQiuhYZ6Idzd+x4bXwgAv0NVO77P5KUJfKrGrC5cATe+pdfIioyTJXF9Q/Hd1KmDocDdrsdtbW1qK6uRn19Perq6tR7/s3vOXBcDhaLBUFBQQgPD0dERAQCAwNhNBrVvc78Z9OmTejVqxcmTJjQmdl2Sl78ufnP//PvGFW9AyNiAFsjeo/lzZ8U/tQ1D/RRv+/z3/x98/jteW+gh9ZdC8bQhW9j4RNz25OE7p7xE8HQZptxJ8iC0bNnT0yePNmtQj5KMIwGA+6U2/BtRj3igg1KIN6YHIBvrtZiSYoVmy7U4tlhVqw7U4tFQyxooD/2fRT3h5OC7xOME9l1uE1iUUXi40e9eaiFOwI/XMpzYGicEWb6S6qoawB3vSEBfriY61BicOZOPdIL7IgONtIzfhgWb8ZnZ2swMt6EHBKeFaODYLM/2KO4BGND/lA8tex1BAX43+PhEgsWChYEFgO+xgLBAskCwL/9/f2VQAQHByth4N/8Yzab76XVVS+++uorJVpTp07tqiJ4LV9vC4bXCu5GwiIYbkCSKJ1H4NSpU0hLS8Pzzz8Pk8n0yIwfJRhmkwHnb9eSQNgwgjrp3ddsWDnGgkM36jG7vz++vV6PCb3MOEajhSVDrUoQvr5ajzcnB90TDAP13sVVDnxyqppGIUb0ijBiF8VZOtxKz9chjEYWESQS0SRImUUONcK4km/HpN5mZBY7UFDpVM/EBRnQP8qMj05XY1KSGWdy7Fg2KgDBDxlhrM9LwayFL8DCinQ3MJembPi11WpVQsEiwaMGfs+jCRaHpnFdaXT1771796oizJ49u6uL4vH8RTA8jrRLE5QRRpfif3jmRUVF2LJlCxYvXozIyMiHR6a7jxIMnk66U2ZXgsAdeiFN8wyMMqhppdgQA0qqaVRAw4JqGh2MI+Goo2mrc3dsmNXPoqanXAXwo/76q0u1NKVkBD+397pNjUyuFdqQXepAEE2HDYiiUQONQsJJQDKKaZrI3qCmwIJIEFJiTQi2GBBH01oHb9RhZIIZJ7LrMSbRjPhQU6tTUhsLhuP7f/9ThAYHuIqiBICFgEcS/GOgURSPKPQUjh07huLiYixYsEBPxXarrC7BGE1TUsO9MCXlViG8FElGGF4CK8m2jwBPs2zduhX9+/fH8OHDH5nIowSDE2DzANsNeOI3wMwTvep/dd1IfwF11LGzsHCnz3HLap0orXGQfaIxe74WQ2LDcfzpARq0oJziRAYZ1SiERxB0i+wSBpWWP9ksrhXW4yrZMSrrnBgW548hMTRaok7dNXUVQtNTnIbF5Edl4j/Du5k1ZqnSYxvGpsLhePunv0KPiNC7d3zj19mzZ5Geno6lS5f6RoWa1MJJ05r/8R//jrE1ZMOIBeodTW7q+SV9xvmT+vGVEIx6+n/gifmz9Vwbt8suIwy3UXVNRJ6WunXrFp5++ulHFsAdweBEmn4D566ZPvv3umh+zYHtANyp20kpMmmE4Po7V4IRxFNOpkYRoQucniv+vecpDX7NPwWVDtwocVC8BgyOMSOERhnKUtHk2cY0KPK9kvDrxsAC5BKMt37yS0T3CHfd8onfV65cwfHjx7Fq1SqfqE/TSvDn5fd/+APCb27GtEQasro+IE0j6fA1V6OkFlifGYfnvv9TjB0zUoe1aHuRRTDazqxTn+Bpqc8//xwrVqxQK3oelrm7gvGwNJrfY0FpboemQYP61t88bmvvWQxsJDzc8fPIRIlLa5FbuO7rgpGRkYEDBw5g9erVLdRe/5f2HziEPZv+iAHBFQgwkmj4QKCvScivD4AzbhJWrn4dEeH3r9zzgSq2WAURjBaxaOcir/pZt24dxo4diyFDhjy0YN4QDJUhdfgPBP7q2JbgSqOtz1Eevi4YPILcs2ePGmGwDcbXwvXrGdiydQuS4qMBR51PVI8FwxwYjqHDR6J/v74+USd3KiGC4Q6lLo6zf/9+lJeX46mnnnpoSbwmGA/N1fs3fV0w7ty5g127duGll15ShnvvE+3cHLhuvEpt5KjRsNl8YFqqcbYWAVaLWoXXuTS7NjcRjK7l71bumZmZ2LdvH1588UX1h9faQyIYrZHR9vXc3Fzs3LnTJwXj2rVrOHz4MBYuXIiYGFomJUHXBEQwdNB8VVVVahPf/PnzER8f32qJXYLxSvJNWGkFVDtmf1pNuytv8AgjT+30Hom3fvILMnr71nxxYWEhtm/fjhdeoD0m9E3cF4LNZsONGzdw4sQJDBgwQE2p+uJ0my+0VVvqIILRFlpdFJftGDt27EBcXJz6w2utGDezb+EP/+fnWJZwDfHBviMYbP44mwekGqbhR//0U4QEB7aGQHfXuW3ZDQwvn2Y3MLz73FPuSXjnO29UdHXUFRUVKCsro2kh2z33KAyM7/MPixVvcuQNj/xce/a1VFZWIi8vD7dv31b1io6OxqhRo1S6umscKfADBEQwHkCizQtnzpwBr6bhTsXVATQvaQX9sa754D0Ysg8gObiaXHM0tLBItflT2n7P5vY6pwFXKsIwYPoKLFn8tMc6VC3UnNv09OnTuHTpklrUMG7cOCQnJ3ukaOfPn1cCERsbqzpv7sxZLHiVmksQ+DXv92E/XC6h4Mx5ZRsLBouIa3c8f+74GsdrGtgNi8s1C+dRU1Oj4vTu3VvVRQvuV5qWV163n4AIRvvZdeqTBQUF+PLLL9U8d0DA33Y6Ny0E//FfpTnjE8eOwFaeS172HD4hGDBZEBydhGnTZiI21rfmwU+ePIkPPvhA+b7idv27v/s7DB06tGmztvv12rVrwen36NEDoaGhmDhxovrNnb5rdzx/ZlhEuMPn1zzicQkAi4hLUHi0wq858PNNAz/LAsPiws4ceZTEIhUW5ltTh03r3F1fi2DopOX5j5I7gGnTpqFv34cv4yssKlarqtgtgy8EM02PREaGIzQkxBeqc18d2OD9q1/9Sk3jsMfan/70p8pz7n2R2vGGO/7f/OY3akMgd+bs2PC1115za1UPP8s/LBgsJvzjcuzousdFYgHhtF0jDxYL/mltBNyOasgjGiMggqGxBnlYcXglDf8xzp3bPVwpP4yFr9zjLwJ//OMf1So49iXFnTp3wh0NbK/4t3/7NzWNOXDgQCxZsgQjR458YHTQ0Xzk+e5FQARDR+199epVpKamquW18i1ORw33iKIeOnRIiQZPR7nryv4RSSIrKwu//CW5USGjM/uoGjFihIjFo6DJ/UcSEMF4JCLtROAVLnxGxnPPPSfzw9pplg6XhO1Ta9aswWpyDcJz/54IFy9eVJ6OFy1apGwize0OnshD0uh+BEQwdNTmPH2xfv16Zbzs16+fjkquz6LyqX05t7KVQdibXvO4XS9cOI+UlBRaXeSZfRiZtNmzuroKKWxAv2fKIn9eBiMS6VAuNkxLEAJtJSCC0VZiXRyf3SywYfGxxx7r4pL4dvYsFrt378a1zBz4ma1s4fVahTlpm70eZpPZI/YLLiivdOKVUAb2We8qOplGnLZ6JCfGYN6c2Qijo2klCIG2EBDBaAstDcTltfXsbuFh+zE0UEzdF+H8ubNYs24zgvqMg781+N6SUm9VjA3drmWrnsijMT1OyaUW9JIEw1Ffi7L043hu4UxMmzHDE1lJGt2IgAiGzhqbd9GyG4nly5ejtf0YOquSJou7fdtWbDtyGQNnvaRGF026XU2W191CsS0j/cgXGBZjwPd/8EN3H5N4QkAREMHQ2QeB18N/8sknypkbuwqR4B0CW778AnvOZKHf1Odp/6PNO5l0QapGkz9unduHRL88/P1b/9AFJZAs9UxABEOHrbdp0yaw2wV2IyHBOwS2kmDs9lnB+JYEI1cEwzsfHZ9OVQRDh8179OhR8A5htmNI8A4BTQoGb+hTc2NNJ8h4k1/T9w/n0TjCEMF4OCW52xoBEYzWyGj4Op/QxqulXn75ZdmM5aV2clcw/PwM1F3z+WuNwZOG6/ur5keuOuppFRV7ljXRLfb7RL6eyIWHkVZXuRtEMNwlJfFaIiCC0RIVjV9jb6B8bCvv4A2XpZFeaa3WBMOPXLM0uu6gVU3UYdfVVMFo9lev+b0lgPxd3VMPWsZK15oH7vQ5HV6qy/d5b4R6hgYKzgYnHUlL95oGGllwnjlXTyEgOByRif1VflXlRaivqURETNK9PFmwWERUmnfTaFoGEYymYOV1WwmIYLSVmAbis1M43sA3YcIEyAY+7zRIS4LBnXZVWRHKC2/DEhiCsJhEpJ/Yg8CwHqirKqfRngnxA0ahmjryOto0FxwRjZDIeNIF571Cchq1FLcs/xasQaEIjU6k9HJQWZwHa0gEwuN6o5LSr6upViJhtgagtrIM0b0GIP3kHjjIEWBEQh+E9KCDtDgtusciUlNRAltdDUKj4hEUFoWSO5mooXshkTEqrmvkI4JxrynkRTsIiGC0A5oWHvn666/Jg2ukEg0tlMfXytBcMLij5073Nn3LryovRnVZIXoPn4KrR79GFHXmZQU51HGHKQEozL5KnXQCqkrzkTJtMQmJWT3LaThoxVX68d2wkFhw5x9JnX/25VSKH4fy/Bz0HDIeN89/h7DonijNv0liFAWn3UbvE1FZWoCS2zcQ3ScFtSQQcf1HkPiUoaa8VL0PCI2Ava4Wcf1GIPPsQYSQeFQU5WLwlCeVODVOX/EqKbFh+NrntbPqI4LRWaQ9nA+fc5Cfn48nnnji7hSJhzPo5sm1JBgO2o19NZU9Bptw5/pZ9BszC0U5N5AwaBSKczIQFBoJu62OxKQYySOn4uzOdRiz8GVYgyPVFBJPQ/Ho49T2jzB20avUudeQ0NzC7WtnMHbhalzYu4FGGeEozL6OYTOeQcaZA2oUY/IPQFleFkz+ViU4/cfOxoltf0avlImUXy2NTgoQFB6lhCvtyDaExvRCQeYldT834wJSpi9BeExPWh5sJ3uHCEY3/2h3qPoiGB3C13UP83nJvFqK7RjNT0DrulL5Ts4PCAZ39hXFOPPNJzTtNBqZ1JknDZ1EAlCCqKQBqCwpoM6YjdFsTjCg94gpOLrxHYx8/EXqzGMaBYNsE5zGya/+jNEkJLaqSlSW5ZNgnMWYJ1bhPAlGME0hlRfcwaj5y2kkshc9etLZJ/Tc7bRTdwXDjgHj5uDkjo/Qa+hE2GqraDqqFDFJgxEe3xun6HpYbC8UZl0FC0sFTXUlDZuEAJrukhGG73w+u6omIhhdRb6D+fI50Js3b8azzz4rhu8Osmzp8eaCwZ02G5jTjm1HqJpuKkRweDQMJBIO+uZuDQpHBdkerDQtZbYEIDY5BZcPfYl+4+Yq2wRZt5VhmuPylJSBVjYZSYR69OxPxuwzaoqqhqa5eg4ej/ybl9Fn1HTcISHhaSU2iBffuq6M62V5t9Q1nqYKp+msWhKLehKNcBpVsM3kauouxNNU1e2rp8l+EafySRw4morfuLJKRhgttbZcc5eACIa7pDQWj09B4x3fc+bMQVISrZKR4FECDwjG3dSryI5gI39MFvYvBaf61s9CYgkKo867mDr1APox02qpYFSV5KspJKedVkqp7RJOmOm6yWwh+0aBihNEnTyPUthozc8ER8SoaasAmt5ShnSahiLTB4kVGcHJrUd9dQXZNOzg5wxkZLfX16mRg8lipbO3zcooz0bvKhKfelrBxYZ1toO49mqIYHj0Y9LtEhPB0HGTb9iwQa2SGjNmjI5roc2ityYY9/Zd8NJXWv3EW+aUFrh+qz10jRvp2MhdTEbqOhIUZTSnUYaVVjRF0EootXeDDel0jW0bbFB3xflbik3ZcC50x9BofKeFtk1WX7lKwBHoNWXfmCalfTcP9TD9I4LhIiG/20NABKM91DTyzIEDB8BHcfIhORI8S6A1wWhrLnYajThpGbRLVQwmI40wyF16FwURjC4C7yPZimDouCH5yNbjx4+rI1v5m6QEzxHwlGDwiESJhatoNJJw7YlwXerM3yIYnUnb9/ISwdBxmxYXFyvD9yuvvKIOy9FxVTRXdE8JhtYqJoKhtRbRV3lEMPTVXveVlg3ff/nLX7Bs2TKEhobed0/edIyACEbH+MnTvklABEPH7cpTG+xTaurUqcrduY6rormib/nic+w5d6vxPAzasOcrwUgrtG6d3YcE3MFb//C2r1RL6tFJBEQwOgm0t7L54osv0KdPH4wcOdJbWXTLdLd9tQXbj1zBoLmrGlekNvEHpV8gtKWQ9o1cO7QJw6L98P0fvqHfqkjJu4SACEaXYPdcpvv27VP2Cx5lSPAcgfPnz+FPn2xAUPJYWMi1h28EP9RVlqDs+nEsXzwPU6dN941qSS06jYAIRqeh9k5GZ86cwe3bt9WRrd7JoXumWl1djS1btuDMxWsIj4pT+yb0ToJ3h5hhR/+kBMyePQthYWF6r5KUv5MJiGB0MnBPZ8c+pdgRIZ++Z7rry8jTeXTX9M6SGJ87dw6jR49WG/R8gYPF34zYuHgRC19ozC6ogwhGF0D3ZJYFBQXYsWMHlixZgpAQOrxHgscIXLhwAXy6IXsEliAEhABtKaKVNo1+DISGLglUVlbis88+w1NPPYWYmBhd1kGrhWbByMrKkuk+rTaQlKvTCYhgdDpyz2ZoJ0d0a9euxfTp09VqKc+m3r1TO3bsGEpKSmSE0b0/BlL7JgREMJrA0OvLv/71rxgyZIgsrX1IAzrJyV9GRgZYYK1W9uxqUqvLWnOpwkbvw4cPY/jw4RgxYsRDUpZbQqD7EBDB8IG23rp1qzqudcqUKT5QG+9UgQWD3cGnp6fDYrEoo29KSooSjZZmZXkXvZnclLMn4ODgYO8USlIVAjojIIKhswZrqbjstZa/EYtxtiU6f7v28ccfY9u2bcrl9/jx49XKMgO5Fm8p8HU+M13EoiU6cq27EhDB8IGWP336NNhz7QsvvOADtfFeFY4cOYJ3331XHWn7xhtvgEWjtdDaVFVr8eW6EOgOBEQwfKCVWSzYQLtqFbmxkNAqgezsbPz85z9HcnIy3n77bVmG3CopuSEEWiYggtEyF11dzc3NxTfffIOXXnpJNu89pOV42u4Xv/iFcta4YMECNTX1kOhySwgIgWYERDCaAdHjW96L8emnn6qDlIKCgjq9CvX19XA6+YjRTs+6TRnabHa1yZF3bvfq1bPFZ9nHoNFogJl2REsQAkLgfgIiGPfz0OU7Bx0BumbNGrXbOyoqqtPqwPleungJV9KuAM0Oluu0QrQhIxa14pJihIWG0QooU4tP8jZWA52Sl5IyFIMHD5JRSIuU5GJ3JSCC4SMtz5v3Jk2ahH79+nVajS5fvoIvt25GRII/AoIsoP5Y44EL6KdOTG2tqAYaJVVW1KIq34kVL7yInr16abxOUjwh0HkERDA6j7VXc/r888+RmJiICRMmeDWfpolvWL8RF2+kYv7zE2CgntYXnMzwtJrN5sDODamYNmY+5j8xv2mV5bUQ6NYERDB8pPm3b9+uNqTNmTOn02r05zV/RqkzC/OXTkR9vb3T8vV2RmazEbs/P4Eo/75Yueolb2cn6QsB3RAQwdBNUz28oAcPHkRFRUWnOspjwSjDLcx9ZpzPCcb+bWcR4kzEK6tffjh4uSsEuhEBEQwfaeyzZ88qtxdLly7ttBqJYHQaaslICGiCgAiGJpqh44XgzXupqalYuXJlxxNzMwVPCwbvrjbQj4P8PjUPTW0kLfl+ai2+O3GbP8tTUjLCaE5F3gsBOQ/DZz4DfPLet99+i1dffbXT6tRewXC53eDOnF+zoZkN5lUV1SgvrkRCcgy9b1DXXPdLiypor4cTkdFhd/d80EN3gysd13sWl9xbhbAE+COiR6h6ri0GeREMF0n5LQTuJyAjjPt56PYdnwzHu71ZMFpzqOfpyrVHMLhzdzqcsJGR3Eodem1NHerr7Ainjj3r+m2cP5GOhcumwWF3wEAb6By0Yok7/mPfnlcb6vhayph+qo6V5dUICLTA32JW6TnIdbmD0maR2LPlGMIiQzAgpRc9b1Fpcd7uBBEMdyhJnO5IQATDR1o9Pz9f7WJevny5Wi3VGdVqq2DwaKG+th5H9p4lsbCgd/94pF+8STvlDIiJiyRB8MOpI1cwesoQmE1G9OwbhwsnrmH4+IH4ZuNhBAZbkHY+E8+//rgaQZSXVKqRyJgpKTh56JKqcnV1LYaN7oczx9JQQqOSJEojLCJYpcEjFHeCCIY7lCROdyQgguEjrc4nw7Hr7sWLF3vVqR5/S+cd3vz7448+RrlfjturpHiqiDv5df+9A7OenIDbN/NwO7sAcYlRuJ1VgBHjB+D65Vs02ghGUEggRk8egu3rD2La42Nw8JtTGDa2H77ddgIvvrkQ545fpSmsGqRfysaC56fQiCIVIycOQhWNOtgFiK3eRqOXegwd059GJ+ew7HtPwES2CXdGGSIYPvJHIdXwOAERDI8j7ZoEeUntF198AXaq50n3IHxCHYsRp88/7DeKnfjxaOHo0WMIiK7HrMVj3FpWy4JRUliOzz/ei5f+biG2fXpQTSUNGd2HRgxFiI2PRPrlbASHBiI0PAgjJg7Epg/3YCSNMIryyzBqEo00Nh3BgmVTsWPDIQwenoz9O05i3pLJSN1/Hk+9OBPFBWW4cjYTFqtZ2TuGkwit+3/bKL8n1dSVCEbXfD4lV98gIILhG+2oOvGNGzdi3rx5iI+P71CteARRUFCAnJwcJRYsGv7+/uoEOj6tjm0kRqMR3+7bD2NEFWa3QTDYeL1j4yEse32+mn5KO38DfQYmKjsDi8TFk9fVVFXG1Rwk9IrC5bM3EJsQiUEj+iCe3m/+y26MnToUh3efxtBR/XHhVDqGjOyj7B9PvzgLBbklSDt3k8TBhBh6biCJyqY/71LTWGZ/k4wwOvTJkIe7OwERDB/5BNTW1oIFY+bMmejZs2VPrI+qKgsFnxnBZ1+zB9zAwMB7p87xyXMsFiwcLBYsGms/WYsKw223p6R4NVQdTRPdIDEYOCwZNWRvuE4jCj9y9hcdH6EM2Pm3ixHbM4quZ9EowV+tcKJeHn0HNxqvr5zNUCOH4oJSKoeJjNl+5NLdqNLqn9Ib1VW1KKFRhtFkQGCQFRHR4bh24SYJR29V5kcx4PsyJeUOJYnTHQmIYPhIq/MZ1OxPauLEiejdu3eba5WXl4dz586BhadHjx6IjY1FaGio+uGzrVtaedVWozcXStlA7E5lT1BG8Lp62G1ONYXkR1NWThIto8mkjOP8nvPlVVUmGh1wfF491eg9sEE9509TT3yf0zWScIAWQvE+DhYndjPIq6rstNKK7RfuBhEMd0lJvO5GQATDR1qcVwB99dVXGDp0aJs81vKo4uLFi+qIVz7DOjk5GTExMW6dZd0ewWDc3PG7bAncsXPX3vQ99f2qw+c7fI9Dy/cbn2ueBsfna5xO4+u/pd945eH/imA8nI/c7b4ERDB8qO137NiBpKQkJRruVIuN10ePHlXG7GQSCh6ZhIWFqQ7dnefbKxjupN2VcUQwupK+5K1lAiIYWm6dNpZt586diIiIwPjx4x/5JIvFvn371KqnMWPGKNfoJpoKaksQwWgLLYkrBPRPQARD/214rwZ79+5VhukpU6bcu9bSC7ZTuMSCz8+Ii4tze1TRND0RjKY05LUQ8H0CIhg+1Mb79+9XRuJp06a1Wiu2WbBY8N6KGTNmKHtFq5EfcYMFo5zcm8/xQffmB7afRZA9AatffeURFOS2EOg+BEQwfKitWTDYoDx9+vRWa3XhwgWcOXMGs2fPRkJCQqvx3Lmx5k9rlGDMWzqB/EHZ3HlEF3H4vG85QEkXTSWF7GQCIhidDNyb2R05cgR1dXWYNWtWi9nk5uYqB4WTJ0/GwIEDW4zTloubNm7GicsH8eSLj6llsXcXJbUlCc3F5dVVVeW12PHpMcyb9iTmzO28Eww1B0MKJASaERDBaAZEz29Pnjyppprmzp37QDV4t/aWLVuUnykWlLYauB9IkC7cuJGJTZ+vR4N/DQJDLK4VsC1F1c81Ur2K0loE+IVhxfKXOjRlp59KS0mFgHsERDDc46SLWKdPn0ZRURFaEgyeijp16hSefvpphIeHe6Q+LEI3M28iMyuTHP7VeSTNrk6ER0lWfyv69Omrlii3tGGxq8so+QuBriIggtFV5L2Qb2uCwQ4D169fj5SUFPASWk8G3lBXU1MLu91XbBh+5BrEhICAAE9ikrSEgE8QEMHwiWZsrERrgsG+oQ4fPowlS5a4tYPbh5BIVYSAEPAgAREMD8Ls6qR42omdB7KL86Zh+/btagf3Y4891q79Fk3TktdCQAh0XwIiGD7S9jw1dOXKFaSlpWHRokXKoyxv0GOnhOzF9qmnnhIDro+0tVRDCHQVARGMriLvwXxZLHgz3qVLl5TRe9CgQepcDPY+y9fYE+3UqVPBu7o9ZfD2YPElKSEgBHRCQARDJw31sGKyYGzYsEEd0crx2AHhj370I+zevRtffvmlGm0MGDAAb775pjrf4mFpyT0hIASEQGsERDBaI6Oz62fPnsV//dd/qfMs2OXHD37wA/BGvnfffVfVZOnSpeq8bz7bQoIQEAJCoD0ERDDaQ02Dz5SXl+M3v/mNsmPwSIJF4+rVq/jlL3+pDkH653/+Z/Tq1UuDJZciCQEhoBcCIhh6aalHlJMPUNq8eTP27NmDn//858oDbX5+Pv71X/9VuTtfuXKlR3Z3P6IYclsICAEfJiCC4UONyyuk2AHha6+9psSB/Uq9//77WLhwIfr27etDNZWqCAEh0BUERDA6gTqvUsq5lQ0eBXgrsJfaqsoq5ObeQd9+/dR+Cz4f+1p6Orm56EO7lz1ruwgICES//v1htVq9VSVJVwgIAY0REMHwcoPk3LqFjZu/QEmNA0YzOejzZnA2wIkGdSaGyoYcIzmclK/B6HHHgM66Cgwf2BcLac+HiIY3G1XSFgLaISCC4cW24OWun2/ahH1nMhA3dBr8DCbwNW8Gds/dNIvm7z2Rt4ESrakoQNW1w3h11XIMGzbcE8lKGkJACGicgAiGFxuIp4T+8Ic/ILshHj2HTaUpKTv15l7MsJOSViJE02vp336ChVNGYOGTT3VSzpKNEBACXUlABMOL9B0OO975/TvIs/RD3MBxcDp8xaMrzXDRaCnj4HrMGJ6IZ5973osUJWkhIAS0QkAEw4stoQTjHRIM/74kGON9TDCMyDi0ETOGJYhgePEzJEkLAS0REMHwYmuIYHgRriQtBIRApxMQwfAics8LBlm0mxhB/Gj1k5OmvTgYjKa7rxvgR/81mkrotZ9BLbFtNITTVTJAqFRUhPYbVDhvGWEo9PKPEOg2BEQwvNjUnhIMFoOygmzUVpYjpvdgtdKK913k37yM8sI7aCADdFhsL1iDwpCXcQG22moYTXRqXGgUgsIjUZidjgHj58JER4+WF99B1vmjGDBxPu3NsLR71ZYIhhc/OJK0ENAoAREMLzaMpwTDaPbHrSsnUF6QgyFTnlSdfH1NBU7t+Ai9R0wlcTCjsrQAsX2Ho7qsEJlnDiAspifi+49Cae5NXDr0JSYteRM9Evvj2vFduHJ4K2at/p9KYFhs2hNEMNpDTZ4RAvomIILhxfbznGBYkHXxO5Tl3cKwmc+SYDjhsNXh1NcfwxochsiEvggM7YHw2N5qg975fRsQ3XsQklImIuP0Adw4e1C97jl4DM7v24yinGuY8sI/ICA4Qo1O2oNABKM91OQZIaBvAiIYXmw/TwpG9qWjKMvPwbAZS2g/h4M6egfKi+7QiKII1eXFqCjMRcq0xTRqCMHZvesbBWPIRFw/tZems27TmRgmEpUIlBXeprh3MHrBKgSGRIpgeLH9JWkh4GsERDC82KKeFAweYRTcTLs3JeWw1SP3+nnE9huG2ooSnN+7EeMX/wBh0Qk4s3MtopOHoPfQSTQFtRu2ulqqZQNyrpzEoMcWIp2mpcYseFmNSmRKyosfAElaCPgYAREMLzaopwTDQDaKwqw0ZNDUUnh0T9o0Z0Ac2Sty0k6q1zTkIDloQN+xc+BPhu2M0/sQStNTsTQtlXP1tFo9ZQ0Ox81zh9UoJO3oDmX0tgaEiNHbi+0vSQsBXyMgguHFFvWUYPCKKFt9LU0/Faslsrw0lm0W9voa1NOKKF5EawkMgdkarGpTV1UGo78FZksAbDVVSkwMJgu9riCbRziqaURiDQolJ4XklLCdQWwY7QQnjwkBHRMQwfBi43lKMO4VkYTiXqCNFbzHgkcWHBr3VjxsXwXtv6BIyvkhPUfGi3tJteeFCEZ7qMkzQkDfBEQwvNh+HhcML5a1rUmLYLSVmMQXAvonIILhxTYUwfAiXElaCAiBTicgguFF5CIYXoQrSQsBIdDpBEQwvIhcBMOLcCVpISAEOp2ACIYXkTvsdvye3JvnW+k8jAG+dR4G+7dKP7gBM8W9uRc/QZK0ENAWAREML7aHk/ZH/OGd3+OmPQbJY+b4zIl7vNyqwW7D5V1r8OycSZj/xBNepChJCwEhoBUCIhhebolvdmzH5l1HEDvkMZjURrmOLWf1cnHdSL5xSW5F3g34FV3Dm99/DX379XPjOYkiBISA3gmIYHi5BUtLS3Hw0CGcOncJBrMVFou/l3P0cvK01cNoNKC+qgIJcVFYsWIF7S7XeZ28jEySFwK+QkAEoxNaMjc3F5s2bcCMGTMRFhbW9AykTsjds1nw1kADTUmVlJTg1OnTWLlyJQlI+3eMe7Z0kpoQEALeJCCC4U26lHZeXh7279+PkJAQzJtHhxiRXyhfCHV1dfjkk0/w5JNPIjY21heqJHUQAkLgEQREMB4BqD237bQ6ikcV6enp6jd3qKNHj0Z4eHh7ktPsMxs3bkSvXr0wceJEzZZRCiYEhIDnCIhgeIAl+2eqr69HQUEBsrOz1aiCk42MjERiYqL6Bh4c3OgY0APZaSaJI0eOKEF89tlnNVMmKYgQEALeIyCC0U62PIooLi5GYWGh6jTLy8tp2awToaGhSiBYLPh1UFAQeYWllUU+GDIzM7Fv3z689NJLYvj2wfaVKgmB5gREMJoTufve4XAgKytLTbmYTCZ1tbq6Gjk5Obhz5w549ROHgIAAJQwsEGynsFqtCAwMhNlspu0KTbzLqti+9U9FRQU2b96MBQsWICYmxrcqJ7URAkLgAQIiGA8gabyQkZGBjz76CHPmzEFUVJSaaqqsrFQiwLYIvsYrnniqyWKxqB+XsLSSpM9d5hHV1q1b0Y/2YQwbNszn6icVEgJC4H4CIhj381DvamtrsWbNGvAcfY8ePTB27Fj0799ffYvmaSYeRfAPC4SvTje1gKXFS0eP0lnjZWV4/PHHW7wvF4WAEPAdAiIYLbTlrl27sHbtWrBwsCDMmjULy5cvV1NNsufgfmA8bcd2jFWrVnV78byfjLwTAr5HQASjWZvevHkTv/vd75SNom/fvhg0aBDGjBkDfi3hQQIsqjx1t2zZMp9bNvxgbeWKEOjeBLwiGDZaYupwOnRFlg4wBW9G27nzG7X6aciQIWTwTkIo2Sl4pRPbKSQ8SICXFP/1r39FSkoKRo4c+WAEuSIEhIDPEPCoYNhsNnx35DAup10lQAZ1hrR+SPnBZqO9FLRMlgUiOChY2Sj4zGwTrYodN24chg8f4fMrn9rTXnv37lX7UJ4Qr7XtwSfPCAHdEPCoYJw4fhyffr4NgYnDYLIGks8k9jykr8DfmF2GbH4NPwNqywtgLM3Eqy+/pFYE6atG3i9tWloaUlNTlR3D+7lJDkJACHQVAQ8KRgM+obns41m1SB7/OGkFdbZ6EwzXvomm5SbBcDpsyDj4GRZNHYlFTz7VVW2l2Xx58+KWLVvwwgsvqNGZZgsqBRMCQqBDBDwmGCwQf/rgfaRVhiJp1Cw47PUdKpiWHjYYTMj47guMSwrEypdf0VLRNFEWNnxv2LBBrSbr2bOnJsokhRACQsDzBDwuGFerwtBrxAzfEgyjGTeObcWYRH+semW151tB5ynyl4WvvvpK7YofNWqUzmsjxRcCQqA1AiIYrZFpct0ggtGERssvjx07ps7IEMN3y3zkqhDwBQK6FQz206TsJI9qhZbsEo96ptl9EYxmQFp4y65UvvvuO7XBUTY3tgBILgkBHyCgWcHwYw+vym7OZ2CzEz96w4EF4O51FYcv3b2vBETdb4x7T1TYiE3G63tpcDptCCIYj4bF3nrXr1+vjmzlZckShIAQ8D0C2hOMuyOC6vJiWt5qRGBIOOzKgG5QR4M6GxyoKilE8Z0b6JUyXmlAfU0lTBby7eQfCCfFNRhN5GrcroTkdvoZWANDEJ00hK61bzOhCMajP/jsiPDPf/4zFi5ciPj4+Ec/IDGEgBDQHQHNCYYfiUT2pWMoupVOYtCApGGTUFFaiJDIGARHxCD74jHY62uRfzMNgyc/gayLqbAGhcBWV4sBEx5H3o0L6DNyOnJvnEddVTlyr19ASI84pExb3DgO4dFGG4MIhnvA+AS+gQMHYsSIEe49ILGEgBDQFQFNCQZPIdXXVuHktr9g0GMLUVGci/L8bJqB8kNM0iCEJyTjwrefo0d8b5QV3kHPQWNwbt8mTFz8A6R9twMRdL0kLwuj56/C9ZN7YKO0bHXViEjoi6SUSWo/RXtaRwTDPWq7d+9WEefOneveAxJLCAgBXRHQnGDUVpUh9Yv3MXnZ36M09yYyzx2E2RKIuL5DERqViDO7PkXioNEoL7yNxIFjSEA2Y/bqn+HM7r/SlJQVZSQYE595E1cOb6UBipOW99oR1bM/EgaNhcNW167GEcFwD9upU6fAp/DJka3u8ZJYQkBvBDQlGAyPDdcXSQT8jAbUkW2iB40ODCYzimmKykzuRkpyszB4yiKkp+4iERmOq6nfoO/oGSjMSsPAyQtx89xhBIZFo+j2dRqVDCQbuRHV5UUYNvNZem1wb2VVs1YUwWgGpJW3fJ45jzJWr14tPrdaYSSXhYCeCWhOMHgVVE1ZMUrzs2hhkwE9EvvzMigU375BRnATCYkfImJ6o7QgG1WlBbh95ST6jZvHj6FHzwF0LReVJcUw+psREBxODgT9UVVWhMj4Piq99jSWCIZ71PggpU2bNqmVUnx0rQQhIAR8i4D2BOMuX55KYpuGwWhUV5x0xjYLBy+hdS2nLc3LJOP4dfQdM4fiOOm6UU1DcVwDjSZYRNhrLk1M0fvGdFRibfxHBMM9YOwenl2dz5s3DwkJCe49JLGEgBDQDQHNCoZSB4XRtaqJe3/Xa3pJauAgd+oOex0sAcHNppqaxe1gc4hguAfQTiLPI4zRo0er1VLuPSWxhIAQ0AsBDQuGuwg9Kw4t5SqC0RKVB6+x/embb75RZ5/zKYUShIAQ8C0CPiAY3m8QEQz3GR84cIA2SDoxc+ZM9x+SmEJACOiCgAiGG80kguEGpLtRTp8+jTt37mDBggXKBuX+kxJTCAgBrRMQwXCjhdjVyI1j2zA6wYSXV7/qxhPdN0p6ejp4P8bSpUshTgi77+dAau6bBDwqGB+890dcrQlH71GzYW/nJjktYjbSPpD0AxsxqX8YVry0SotF1EyZcnJysGvXLrW01mKxaKZcUhAhIAQ6TsBjgsFF2bxxA75OTUO/KUvU7uz7VjV1vKzNUmBjN4cmK6caL3j4X9oXQvs9Mg9vwKrnFmH6jJkeTt+3kisuLsaXX36JZcuWyXGtvtW0UhshAI8Kxq1bt/DJ2k+RW14PozXY63idtCrH0LjZwnt5UR4NtWUYnJxAZz28gNDQUO/l5QMp19fXY+3atVi8eDEiIyN9oEZSBSEgBFwEPCoYDtowl5+fD56WqKmp/dtWClduHvvth6rKSpw5exaTJ02izX181oUXAg1eePNgSGgIknr1Qnh4uBhyH4GZl9aym3N2QJiUlPSI2HJbCAgBPRHwqGBwxbnDsPOGOlpa6c3Abii2bduGF1esUJv4vJUXT3wZTSZyMWLyVhY+l+5nn30GPtt70KBBPlc3qZAQ6M4EPC4YnQWzqKgIW7duxcqVK6Uz7yzobubz1VdfITExUe34dvMRiSYEhIAOCIhg6KCR9FZEXiXFI7JZs2bprehSXiEgBB5CQJeCwTuJCwsL1ZTU8uXLwcs3DXwGuARNEODd3nzG95NPPqmJ8kghhIAQ8AwBXQrGd999h0OHDikDey8yRi9atAj9+vXzDBFJpcMEjh49qnZ7L1mypMNpSQJCQAhoh4AuBeP48eN45513wKuyeOXSj3/8Y7BwSNAGgQsXLuDKlSt47rnntFEgKYUQEAIeIaBLwWCD969+9StkZWWBvaK+/fbbalrKI0QkkQ4TyMjIQGpqKu1bWd7htCQBISAEtENAl4LBI4sPP/wQ27dvV8eBPvXUU9ohKiVBXl6esi+9+uqrsm9FPg9CwIcI6FIwmD9/g12zZg1+8pOfIDk52YeaRP9V4T0yfPLe9773PXFAqP/mlBoIgXsEdCsYPC21Y8cONe0hm+rutacmXlTSLvxPPvkEr732Gvz9/TVRJimEEBACHSfgccHgsxCuXU0HH9fJbjW8FTj9kpISREdFe9EFSePO9YDAAAwdmiJ+pNxszKqqKqxbtw6rVq2C1Wp18ymJJgSEgNYJeFQwbpMPqY8++Rj1qEJgMH2z9KIjWU5aCRK5IvFm4NQrSqqREJOMl158ESEhId7MzifSrq2tBbsH4WW14qzRJ5pUKiEEFAGPCsbmjZtx4UYqZj49huauvTe6uNd2nIV39UL5qaosq8buTafx9OPPYtr0afeylxctE6irq8P69evx9NNPIywsrOVIclUICAHdEfCYYLDTwQ/e/xOcYcV4bO4w2GwO3cFoqcA8q2Yg8fvms1T0Ck+hA5RkqWhLnJpeYxfnPMLgDZXi4rwpGXktBPRNwKOC8f57H8DQoxQTZw+Frd43BIOb12Q2YO8XJxFhTMYrq1/Wd4t3QunZvsQjDPYlFR8f3wk5ShZCQAh0BgERDDcoi2C4AalJFBaMDRs2YMaMGUhISGhyR14KASGgZwK6Egx2MMhTX/zTmUEEo220eWMljzCmTp0qLlvahk5iCwFNE9CNYPCKqOqKGpj9TbAE+JMfKe8e0NS01UQwmtJ49Gv2Jswb98aPH48BAwY8+gGJIQSEgC4IaEYwjHTMqp+BLMw0eHCNIPg9L4TikUV2Zh72bDmKKXNGITI6DOE9Quk64KT4HMcV7HbHvd3FbLC2253q+YYGp1qGy2k7+aE2BBGMNsCiqC7BGDduHAYOHNi2hyW2EBACmiWgCcFgQSjMLcHlsxkwUC8/YuJAOubVgZOHr6jluWOnpuDw7jO4fjkb/Qb3RFlJJabMHY3i/FKUFlciOi4c1ZWNZ4iPfmwIbmfm4/qVbASFBGD4+IHIvHobvfrGory0iozxNvTun9CmEYoIRts+vywYPCXFx7QOHjy4bQ9LbCEgBDRLQBOCYTabsO2zgzTlVI3+KUnoERuO1APnEdEjjDp4O+w0Jx4aFoSK0koEhQaiuKAMA4f2xrc7TmDyrBH49usTmDp3DK6cv4Hp80ejILcUDhppZFzNwehJg1BTXY/820X0uxZjpw5F737xbVr2K4LRts8vj+I2btxIu+OHIiUlpW0PS2whIAQ0S0ATgmEyGZB2PhMnDl5CeFQohozogz1bj+G51+ajpqpGTUUNHtlXTVdZgyxqNJKYFI1zx9OxYNlUbPzTTjz3+nxsJ9HhEUg5CUtFeTUy03IwkkYrk2ka67c/X4vE5Fis+OETanTRFru5CEbbPr8iGG3jJbGFgF4IaEIw2KB99RxNR9E50BdOpcMaYEFxXil4eomnmjLSbmHgsN5qOoltF1do6qrPwETcvJ6HeUsm4/MPd5NgzMMXH+9DQs8onD95jURiJI7tP49eyXFIohHFme+uoMGvAXMXT0JsQg+ZkvLiJ1QEw4twJWkh0IUENCEYbPBOo+mkG1fvkO3CRqOCQairteH88atk0TZg3JQhynhdX1ePhN6xOLzzFCJjwsgTqhlDx/ZH6v5zmDRzBI4fvKjE4AZNRdXV2RAUbCVhoA2EZONOGdUPRQWlyjYyYsJAEQwvfuhEMLwIV5IWAl1IQBOCwfVvoJVLtbV1tOLJD9ZAC18hmwO9J8Gw8jJaWu3E14wmI2x1dvXaj4zlJjO9J0O2mcSD7R0sPg1kdLWRDcOfluDyKil+b6FRCxtjHTYnzBYTPe9+kCkp91lxTBGMtvGS2EJALwQ0Ixi8BLZxgSxvzFM+/+4xbG5v4Cks7pRcgZ9t8pZE5t4dFa/p/aavXbEe9VsE41GE7r8vgnE/D3knBHyFgGYEQ8tARTDa1joiGG3jJbGFgF4IiGC40VIiGG5AahJFBKMJDHkpBHyIgAiGG40pguEGpCZRRDCawJCXQsCHCIhguNGYIhhuQGoSRQSjCQx5KQR8iIBHBeO9996HKaocE2al0IolHzoPw9+APZ+fRKSch+HWR18Ewy1MEkkI6I6AxwSDa/7B+2tQZbqFec9OVMtZeRmsVwMnf29FlHdy4hVZ7GZk0wf7MWbwFCx59hnvZORDqYpg+FBjSlWEQBMCHhWM1GOp+HTDxxg0LhE9aGNd06WuTfL0yEvuyI20D4P9THk3NCCbdpTnXa/CD77/Bvr37+/d7HwgdREMH2hEqYIQaIGARwWDd2IfP3EcFy9dQE1ttfe+/NOoop426xUWFiI+Lr7JvosWatiBS2oAQ3mFhkRg/LjxyvOq0WjsQIrd41ERjO7RzlLL7kfAo4LB+Gzk2oOFw+7g3djeCyXFJdi5ayeWLl0KE/mg8mYwm8ywWC33ztnwZl6+kLYIhi+0otRBCDxIwOOC8WAW3rnCo4utW7di5cqVMJvN3slEUm0XARGMdmGTh4SA5gmIYGi+ifRXQBEM/bWZlFgIuENABMMdShKnTQREMNqESyILAd0QEMHQTVPpp6AiGPppKympEGgLARGMttCSuG4REMFwC5NEEgK6IyCCobsm036BRTC030ZSQiHQHgIiGO2hJs88lIAIxkPxyE0hoFsCIhi6bTrtFlwEQ7ttIyUTAh0hIILREXrybIsERDBaxCIXhYDuCehWMEpLS7Flyxa1cc9APqUkaIvApk2bMGzYMAwaNEhbBZPSCAEh0G4CuhSM9PR0pKWl4fz585gwYQJSUlIQFxfXbgjyoOcIlJWV4dy5czh+/DgSEhJU2wwfPpz8fXnZrbDnqiApCQEh0AoBXQrG3r17sWbNGvDIwmq14kc/+pF8k22lgTv7cl5eHn79618rx5BOpxPz5s3D6tWrO7sYkp8QEAJeIKBLwcjJycEvfvELFBcXY8CAAfjxj3+MkJAQL+CRJNtKwEHu5n/7298iNTUV/v7++Md//EeMGDGirclIfCEgBDRIQJeCwR5x3333Xezfvx/PPfccVqxYIVMeGvpw7dmzB++99546O+QnP/mJiLmG2kaKIgQ6QkCXgsEV3r17Nz788EM1uuA5cgnaIZCbm4uf/exnmDNnjoi5dppFSiIEOkxAt4KRmZmJdevW4a233kJQUFCHQUgCniPAtovf//73mDp1KsaOHeu5hCUlISAEupSAxwWD1+CXV1arc7C9deQer7ipqalBRsYNDBkyxGsn7qmWoWP3LBYzggIDurShPJV5TW0dnYZY56nkWk0n/do19IiKQmRkJB3V66Wz3SlZg9GAkKAAOdyq1ZaQG0LAcwQ8Khi1tbX4Yss2XD53Ev5GPmvbi0spuRNSyXsxD6oBd3YNxgA8Nn0GZk6fruuO6cTJU9i182vYq8tohZl3uQFOouft/TENsDn80LPvYDy/dAnCwsI895chKQkBIfAAAY8Kxq49+7Bnw+8xv2cpAk3U0TZ4u1N6oD4ev2BAA/JqDNhflISXf/g/MHKEPu0l2dk5eOf//gdGmC9iQJgDDm+KucdbobUEG+Bw+mFvTgD6TXsFLy5/XhY/tIZKrgsBDxDwmGDwpMMHf/oQ1isf4vE+QL3DS9MQHqh0W5PgL+Pr0gLQe+Yb9E32mbY+ron4R1NP4qu//AqvDyig0R+NnDRRqo4Xwt/oh7N5DfjOMBs//pefwuIvx/V2nKqkIARaJuA5waAe6L0P1iD8+keY0YumCnhGwkeCiQRjS4YZltGvY/WqFbqs1ZGjx7F77b/jlf4FNB2lyyq0WGgT1eVGGfBN1ST88//83wgKsLQYTy4KASHQcQIeF4wwEoyZPisY3yPBWN5x6l2Qgq8Lxs7qyfinn/2rCEYXfLYky+5DQATDjbb+2whDBMMNXJ0axTXCEMHoVOySWTcl0CWCYSSjAM+h80Ind5ZcGmgZbWN8/te9wEtv3UnbnXgiGI3MmRUvY3Byw90Nzfk1b6vm713Peeq3CIanSEo6QuDRBDpdMFgsrhXakF3qRAhNNw+MMiPU2jip3lQUXB0N9VE4k1OHqCADksLNsDsbOyu+z4E7r6adluu1jVb1+nNPT4H/daXtuq+uUxoOSo/v302OLz8QRDAAbrfMYhsq6pwYmWBV3Kro9Y0SGwbF+MN890tAalYdBkSZ0CPICLqEU9R2PQIN6B3hr55huK4249fMvqkA8bW2BBGMttCSuEKgYwQ6VTC4s7bT6qnfHKzEoB5GDE8wI+Zux1Ja64CZeuaYIJNaYXWn3IYAfwPiQ0z46EQVBsYYMaW3FbV2Xq4L3Cqzq04sMcyEmnqn6pxYIOrpfjbdO5Zlx5Kh1LFR3DJK22r2I9ExoaLWiSCLH63fpxu07Df1Vh11dsDEpNaNpSIYJL60Qe5ARg2ySpyY0d8fodQ2JlptdafcQWJgVoxZTL68VI+nh/gjntqlqMqBr6/WYXiskfha1RcFboc4atNqarN6uxOV9Q3qPSXfriCC0S5s8pAQaBeBThUM/pZaTJ3Ifx6sxuTejR39sHgzdqXZEBUMlNY24Bnq5HNK7cgsdaC8Bpg9wB8nsm3oE2mgZ6wkJsCOK7TLu5g3BgJjEikdEokwi4G++fpj2+UaBFCndCjTgWXD/bH9ig09I4C88gYsoI4slYTkhZFWXMqrR25FA3LKnWqZ6fJRgTDTEs2WprFEMEBsDDiSWYOtl2wYEW9And2P2saMi3fs6EPiv+taPY0UgQt3nHh1vBVHs2ywmoBzdxqwYpQ/sXYir4L2f5BOj0kw4Tq1321iH0CrYCMDjVg8NODeCKQtn2QRjLbQkrhCoGMEOlUweITBYU1qFeYMsGBveh1GxpvwHXUur48PxM5rtYgO9ENYgEEJwpU8J8b3MqKougHJEQZMSQ6gb7JO/PZQJV4eG6BGG9su1yE22IDEMIMaJaw7VY2hsSacy7Vj0RArPkitwY9nBeHLizWoszWgkNL63oQgNVWSX9lA01ZAQqgRo0lsXNNdzZGKYPxthHGBuH5vYhDeP1aFsT3NuEXCzqNGfxqmLRhsxW++raKRo4FGHk68MSkYf6R4A6KMNDqxY1isAUU1DSB9h8XQgKQII0bE+ePDEzV4a1qQGjG2JNjN26PpexGMpjTktRDwLoEuEYwPjlUqwdh3vd60KoIAAAXLSURBVJ46DBMu5duxakwgvrlaq76VnslxUOdvwlnqnFgoqsj1UTKNMKY2EYxXSWB4WuPLS3XoGWqgaQ0DBkWb8OmZWjyWbCZBsOHpFCs+PF6Ln8wOxuYL1bBRT8Ui8dqEQOwmcaq1AYE0PRUT7IeJvawiGA/5rPEIg6ek8kgIlo0OxH8fqcRwEnsWBh71WUh4Fw0JwK/3VZH4kmDQiOLNycH4w5EqDI424mCGTY1ILKS+QTSddTy7HqMTzUiiqav/PlqNt6eLYDwEv9wSApog0KmCwTXmUca601WY1seCw5l1GBpjwpUCB5YOD8D+G7UIpOmkjEKH2lxWxR06dUQ8Vz6YxGB0okVNaexIq0FmkYO8FfnRCMWI6GAjdqbVIYJGJ+VqWisAX9CIYhRNfWy/bMPQOCNyypx4cbSVbBv1KK+jkUZVA4bQ3HoiCc0JEpflIwIRQNNaLX3DlREGTUnRdOJRMmgXVjqxKCUAH5+qUiM5nlZKjjRiG9kuYkLYMN6Al8ZYSPzrEExtycKxeJgVN4vtNAXlQLC/H8Yn+dNCBhvxNyEx1ERpVeOHNGph/1Yt8X/YX4qMMB5GR+4JAc8S6HTB4OKX0rREEHUc1WTwJEewqKepolCahmIDKBugeSFUSY0TkQFGZZzmeW+e6+ZvpxwctIs8t9IBMjkglgyoHAoqyQhOYsR2iBAaNVST2Nwmw/m2y/V4cZSVOiMDjSQMahqrkOwoVkrLQnGtVI7SaifCKf/WDK8iGAqxYmezAyFWYkZtyKMK3tEfQkJbRO1RTw1npR48jO5XUVuW02KDIPJDEujfaAO5U24nexEvPjDQaqvG57m9eJoxgvi3J4hgtIeaPCME2kegSwRDrWHlpU5s06Df9Eotr7y/CiwOfKfx30apUG/v/uO60hjnvnWxlKaJvq3yKp0zd2yY1dcK8lGn8mp8mN40/t/4jfZuOZqm3vS1CEZTGndfu5jd95vutcCZ27gx3IN+r+3VdVcad2O15ZcIRltoSVwh0DECXSMYHSuz20+rboo6I6qk28+0FFEEoyUq2rgmgqGNdpBSdA8CPi0YnmpCEQxPkfR8OiIYnmcqKQqB1giIYLRGpsl1EYwmMDT2UgRDYw0ixfFpAiIYbjSvCIYbkLooighGF4GXbLslAY8Lhq+eh7GVzsMw03kYr+r4PIw9dB7Gyz54HkYmnYfxdTWdh/EzOQ+jW/ZiUulOI+BxwQhN/wvm9gbIrZDPBFp5i3VXLYh97IdY8cJSXdaLz8P4+uNf43uDCtXy4Y4tA9AOAtoDiEuFwLf26fiXn/0vWHidtgQhIAS8QsBjgsGl+2r7Nzi0+Xd4tm8F+XbySnm7JNGsCmDrrQSseuOfMH7c2C4pQ0czvXHjJn77n7/AtNCrGBrJHn47mqI2nq+hfSHbMqyInbgSr7/6ss/USxt0pRRC4H4CHhWM8vJyrPvrZ8i4dBpWv0pakq/vXqnxWzh5wDWGY8LUWVj81JMwGmnbuQ4D76Det38/dn29Haa6AlpqTPvk9d08antHXYMFMUmDsOrlVYiJjtFhy0iRhYB+CHhUMLjaNtoKXFBYgMrKatp2p/MeierDnWpkRCj9RKrd4vpp2gdL6nQ6UV5egcLiYjh4+7wPhMAAfxKKaPhb/HX/BcUHmkOq4OMEPC4YzEt1RR3cLKcl7i4vu1oqU0fK0lZ/TR3JqzOe9bX26QxmkocQaA8BrwhGewoizwgBISAEhIC2CYhgaLt9pHRCQAgIAc0QEMHQTFNIQYSAEBAC2iYggqHt9pHSCQEhIAQ0Q0AEQzNNIQURAkJACGibgAiGtttHSicEhIAQ0AwBEQzNNIUURAgIASGgbQIiGNpuHymdEBACQkAzBEQwNNMUUhAhIASEgLYJiGBou32kdEJACAgBzRAQwdBMU0hBhIAQEALaJuBXV13kG17otM1ZSicEhIAQ0D0BEQzdN6FUQAgIASHQOQT+Py8x4RQvta1TAAAAAElFTkSuQmCC)"
      ]
    },
    {
      "cell_type": "code",
      "metadata": {
        "id": "lmtRsuY9CZNR"
      },
      "source": [
        "class AttnDecoderModel(torch.nn.Module):\n",
        "   def __init__(self, hidden_size, output_size, num_layers=1,dropout_prob=0.1, max_length=MAX_LENGTH):\n",
        "        # avoid referring to the base class explicitly\n",
        "        super(AttnDecoderModel, self).__init__()\n",
        "        \n",
        "\n",
        "        self.embedding = nn.Embedding(output_size, hidden_size)\n",
        "\n",
        "        self.attn = nn.Linear(hidden_size * 2, max_length)\n",
        "        self.attn_combine = nn.Linear(hidden_size * 2, hidden_size)\n",
        "\n",
        "        self.dropout = nn.Dropout(dropout_prob)\n",
        "\n",
        "        self.rnn = nn.LSTM(hidden_size, hidden_size,num_layers, bidirectional=True)\n",
        "        self.out = nn.Linear(hidden_size, output_size)\n",
        "\n",
        "   def forward(self, input_seq, hidden, encoder_outputs):\n",
        "     #embedding input words\n",
        "        embedded = self.dropout(self.embedding(input_seq).view(1, 1, -1))\n",
        "      # to get the attention weight calculating softmax of alignment score\n",
        "        attn_weights = torch.nn.functional.softmax(self.attn(torch.cat((embedded[0], hidden[0][0]), 1)), dim=1)\n",
        "        #multiplying the attention weight with the encoder output to get the context vector\n",
        "        attn_applied = torch.bmm(attn_weights.unsqueeze(0),encoder_outputs.unsqueeze(0))\n",
        "        #concating context vector with input embedding so that we can get the output\n",
        "        output = torch.cat((embedded[0], attn_applied[0]), 1)\n",
        "        #to overecome the vanishing gradient problem, and allow my model to learn faster and better performance\n",
        "        output = torch.nn.functional.relu(self.attn_combine(output).unsqueeze(0))\n",
        "\n",
        "        output, hidden = self.rnn(output, hidden)\n",
        "        #adding forward and backward layer\n",
        "        output = torch.cat((output[:, :, :hidden_size], output[:, :, hidden_size:]))\n",
        "        output = torch.nn.functional.log_softmax(self.out(output[0]), dim=1)\n",
        "        return output, hidden, attn_weights\n",
        "\n",
        "   def init_hidden(self):\n",
        "     # we have 2 cells hidden cell and memory cell\n",
        "        return (torch.zeros( 1* 2, 1,hidden_size, device=torch.device('cuda')),\n",
        "                torch.zeros( 1* 2, 1,hidden_size, device=torch.device('cuda')))"
      ],
      "execution_count": null,
      "outputs": []
    },
    {
      "cell_type": "markdown",
      "metadata": {
        "id": "oQHcluW0jZQv"
      },
      "source": [
        "#***Train The Model***\n"
      ]
    },
    {
      "cell_type": "markdown",
      "metadata": {
        "id": "385YDxwSHuKv"
      },
      "source": [
        "In PyTorch, we need to set the gradients to zero before backpropragation because PyTorch accumulates the gradients on subsequent backward passes. So, I have encoder_optimizer.zero_grad() and decoder_optimizer.zero_grad(). After that, I have used negative log-likelihood loss and also intialize tensor of input_length and output_length. here first I have initialize encoder_hidden and encoder_output as zeros. I have saved encoder_output of each input after that I have initialized decoder_input and decoder_hidden.\\\n",
        "Here, I have used teacher_forcing as 0.5"
      ]
    },
    {
      "cell_type": "code",
      "metadata": {
        "id": "BPMLZVBaCcH9"
      },
      "source": [
        "teacher_forcing_ratio = 0.5\n",
        "\n",
        "def train(input_tensor, target_tensor, encoder, decoder, encoder_optimizer, decoder_optimizer, criterion, max_length):\n",
        "    #https://stackoverflow.com/questions/48001598/why-do-we-need-to-call-zero-grad-in-pytorch\n",
        "    #set the gradients to zero before starting backpropragation because PyTorch accumulates the gradients on subsequent backward passes\n",
        "    encoder_optimizer.zero_grad()\n",
        "    decoder_optimizer.zero_grad()\n",
        "\n",
        "    loss = 0\n",
        "    target_lens = 0\n",
        "    input_length = input_tensor.size(0)\n",
        "    target_length = target_tensor.size(0)\n",
        "    loss_function = nn.NLLLoss()\n",
        "    #intializing encoder hidden and encoder output to zeros\n",
        "    encoder_hidden = encoder.init_hidden()\n",
        "    encoder_outputs = torch.zeros(max_length, encoder.hidden_size, device=torch.device('cuda'))\n",
        "    #here for each input in tensor \n",
        "    for ei in range(input_length):\n",
        "        encoder_output, encoder_hidden = encoder(input_tensor[ei], encoder_hidden)\n",
        "        encoder_outputs[ei] = encoder_output[0]\n",
        "\n",
        "#initializing decoder input and hidden state\n",
        "    decoder_input = torch.tensor([[0]], device=torch.device('cuda'))\n",
        "    decoder_hidden = encoder_hidden\n",
        "    #random.random() provides values 0 to 1\n",
        "    use_teacher_forcing = True if random.random() < teacher_forcing_ratio else False\n",
        "\n",
        "    if use_teacher_forcing:\n",
        "      #feed the target as the input to next\n",
        "        for di in range(target_length):\n",
        "          #output of decoder\n",
        "            decoder_output, decoder_hidden, _ = decoder(decoder_input,decoder_hidden, encoder_outputs)\n",
        "            \n",
        "            # loss += criterion(decoder_output, target_tensor[di])\n",
        "            loss += loss_function(decoder_output, target_tensor[di])\n",
        "            \n",
        "            decoder_input = target_tensor[di]\n",
        "    else:\n",
        "      #here predict by own without teacher forcing\n",
        "        for di in range(target_length):\n",
        "            decoder_output, decoder_hidden, _ = decoder( decoder_input, decoder_hidden, encoder_outputs)\n",
        "            #take top output I have passed 1 for output. Returns the k largest elements of the given input tensor along a given dimension.\n",
        "            _, topi = decoder_output.topk(1)\n",
        "            #  Detaching a tensor removes it from the computational graph so no longer need of tracking gradient.\n",
        "            # the previous token can be seen as a constant defining the starting point, it will be discarded after one time step\n",
        "            decoder_input = topi.squeeze().detach()\n",
        "            # loss += criterion(decoder_output, target_tensor[di])\n",
        "\n",
        "            loss += loss_function(decoder_output, target_tensor[di])\n",
        "\n",
        "            #check EOS.\n",
        "            if decoder_input.item() == 1:\n",
        "                break     \n",
        "    #computes the derivative of the loss w.r.t. the parameters using backpropagation.\n",
        "    loss.backward()\n",
        "    \n",
        "    #causes the optimizer to take a step based on the gradients of the parameters.\n",
        "    encoder_optimizer.step()\n",
        "    decoder_optimizer.step()\n",
        "\n",
        "    return loss.item() / target_length"
      ],
      "execution_count": null,
      "outputs": []
    },
    {
      "cell_type": "markdown",
      "metadata": {
        "id": "7RM29op_nLRb"
      },
      "source": [
        "In this section I have train my model on number of epochs. but while trining my model I have used 1 epoch and save model because of limited time to use GPU in colab.\n",
        "Here I have used negative log likelihood for loss criterion. I have shuffle training data using np.random.permutation and store indexes in a list. I have also tried to sort the training data according to lengths but takes time to sorting but loss not change a lot so atlast I used random training. Its depending on individual.\n",
        "Here I have calculated average loss per 10K training data.\n",
        "In training function, I have passed tensor of Hindi training data and English training data.and also passed encoder, decoder, Encoder_optimizer, Decoder_optimizer, loss funtion and maximum length of hindi sentences and english sentences"
      ]
    },
    {
      "cell_type": "markdown",
      "metadata": {
        "id": "6OkCnGrTE-7_"
      },
      "source": [
        "#***Capturing Loss And Time For Training Model And Initializing Loss***\n"
      ]
    },
    {
      "cell_type": "code",
      "metadata": {
        "id": "Sav0OWrMCeof"
      },
      "source": [
        "def trainEpochs(enc, dec, enc_opt, dec_opt, epochs, maxlen=100):\n",
        "    \n",
        "    start = time.time()\n",
        "    length_vocab = len(hin_vocab)\n",
        "    criterion = torch.nn.NLLLoss()\n",
        "\n",
        "    for epoch in range(epochs):\n",
        "        input_li = np.random.permutation(length_vocab)\n",
        "        avg_loss = 0;\n",
        "        per_epoch_loss =0;\n",
        "        train_data = 0\n",
        "        for iter in input_li:\n",
        "            loss = train(hi_train[iter], en_train[iter] , enc, dec, enc_opt, dec_opt, criterion, maxlen)\n",
        "            avg_loss += loss\n",
        "            train_data += 1\n",
        "            if train_data == 10000:\n",
        "                end = time.time()\n",
        "                print('*****')\n",
        "                print(f'Epoch: {epoch + 1}, Done training {train_data}/{length_vocab}')\n",
        "                print(f'Time : {end - start} Seconds')\n",
        "                print(f'Average loss after 10k training data: {avg_loss/10000}')\n",
        "                per_epoch_loss += (avg_loss/10000)\n",
        "                start = time.time()\n",
        "                train_data =0\n",
        "                avg_loss =0\n",
        "        print(f'Average loss after {epoch+1} training data: {per_epoch_loss}')"
      ],
      "execution_count": null,
      "outputs": []
    },
    {
      "cell_type": "markdown",
      "metadata": {
        "id": "W9I46LWHECSW"
      },
      "source": [
        "#***Initialize Encoder-Decoder Model***"
      ]
    },
    {
      "cell_type": "code",
      "metadata": {
        "id": "KUcjZlrRCo1B"
      },
      "source": [
        "hidden_size = 512\n",
        "\n",
        "enc = EncoderModel(hi_n_words, hidden_size).to(device=torch.device('cuda'))\n",
        "dec = AttnDecoderModel(hidden_size, en_n_words, 1,0.1, max(hi_max, en_max) + 3).to(device=torch.device('cuda'))\n",
        "\n",
        "enc_opt = torch.optim.SGD(enc.parameters(), lr=0.03)\n",
        "dec_opt = torch.optim.SGD(dec.parameters(), lr=0.03)\n",
        "\n",
        "\n",
        "#enc_opt = torch.optim.SGD(enc.parameters(), lr=0.001,momentum = 0.95)\n",
        "#dec_opt = torch.optim.SGD(dec.parameters(), lr=0.001, momentum=0.95)\n",
        "\n"
      ],
      "execution_count": null,
      "outputs": []
    },
    {
      "cell_type": "markdown",
      "metadata": {
        "id": "0iwG1Sm3Eizg"
      },
      "source": [
        "#***Code to Run Train Model***"
      ]
    },
    {
      "cell_type": "code",
      "metadata": {
        "id": "IH0A2rZCEjmT"
      },
      "source": [
        "No_epochs = 1\n",
        "trainEpochs(enc, dec, enc_opt, dec_opt, No_epochs, maxlen=max(hi_max, en_max) + 3)"
      ],
      "execution_count": null,
      "outputs": []
    },
    {
      "cell_type": "markdown",
      "metadata": {
        "id": "3RQas7JcD3lR"
      },
      "source": [
        "#***Saving State_dict / Model***"
      ]
    },
    {
      "cell_type": "code",
      "metadata": {
        "id": "lQlGjKJpLT02"
      },
      "source": [
        "torch.save(enc.state_dict(), \"drive/MyDrive/phase4/try1/newenc.pt\")\n",
        "torch.save(dec.state_dict(), \"drive/MyDrive/phase4/try1/newdec.pt\")\n",
        "torch.save(enc_opt.state_dict(), \"drive/MyDrive/phase4/try1/newenc_opt.pt\")\n",
        "torch.save(dec_opt.state_dict(), \"drive/MyDrive/phase4/try1/newdec_opt.pt\")"
      ],
      "execution_count": null,
      "outputs": []
    },
    {
      "cell_type": "markdown",
      "metadata": {
        "id": "aYmWl7rqSaiO"
      },
      "source": [
        "#***Loading State_Dict***\n",
        "\n",
        "Here is the link of all epocs that i trained [link](https://drive.google.com/drive/folders/1A24QnKqJ6WvZpRCvJHs82W-QWX_gTLvR?usp=sharing)"
      ]
    },
    {
      "cell_type": "code",
      "metadata": {
        "id": "Q9Tg1X9itLUm"
      },
      "source": [
        "enc.load_state_dict(torch.load(\"drive/MyDrive/phase4/TEST_PHASE_MODEL/12enc.pt\"))   \n",
        "dec.load_state_dict(torch.load(\"drive/MyDrive/phase4/TEST_PHASE_MODEL/12dec.pt\"))\n",
        "enc_opt.load_state_dict(torch.load(\"drive/MyDrive/phase4/TEST_PHASE_MODEL/12enc_opt.pt\"))\n",
        "dec_opt.load_state_dict(torch.load(\"drive/MyDrive/phase4/TEST_PHASE_MODEL/12dec_opt.pt\"))"
      ],
      "execution_count": null,
      "outputs": []
    },
    {
      "cell_type": "markdown",
      "metadata": {
        "id": "jgG5luB6DfS3"
      },
      "source": [
        "#***Translating Hindi To English***"
      ]
    },
    {
      "cell_type": "code",
      "metadata": {
        "id": "DFgAwQRgCy-M"
      },
      "source": [
        "def translate(encoder, decoder, sentence, max_length):\n",
        "\n",
        "    with torch.no_grad():\n",
        "        #tokenzize the sentence and then make tensor\n",
        "        # here while Translation i have not normalize hindi sentence \n",
        "        seq = indic_tokenize.trivial_tokenize(sentence)\n",
        "        temp = []\n",
        "        for word in seq:\n",
        "          if word in hi_word2index.keys():\n",
        "            temp += [hi_word2index[word]]\n",
        "          else:\n",
        "            temp += [hi_word2index[\"PAD\"]]\n",
        "        # making tensor from sequence \n",
        "        seq = torch.tensor([hi_word2index[\"SOS\"]] + temp + [hi_word2index[\"EOS\"]]).to(device=torch.device('cuda'))\n",
        "\n",
        "        input_tensor = seq.reshape(-1, 1).to(device=torch.device('cuda'))\n",
        "\n",
        "        #intialization of encoder_hidden and encoder_outputs\n",
        "        input_length = input_tensor.size()[0]\n",
        "        \n",
        "        encoder_hidden = encoder.init_hidden()\n",
        "        #encoder_outputs zeros of lengths of sentence and hidden_size\n",
        "        encoder_outputs = torch.zeros(max_length, encoder.hidden_size, device=torch.device('cuda'))\n",
        "        # encoding each character \n",
        "        for ei in range(input_length):\n",
        "            encoder_output, encoder_hidden = encoder(input_tensor[ei],encoder_hidden)\n",
        "            encoder_outputs[ei] += encoder_output[0, 0]\n",
        "\n",
        "        #intialize decoder_inputs and decoder hidden \n",
        "        decoder_input = torch.tensor([[0]], device=device) # init of sentence\n",
        "        # decoder hidden must same size of encoder hidden\n",
        "        decoder_hidden = encoder_hidden\n",
        "        # list of decoded word that possibly we get \n",
        "        decoded_words = []\n",
        "        # since we have output 3 parameter in decoder so I have also intialize decoder_attention.\n",
        "        decoder_attentions = torch.zeros(max_length, max_length)\n",
        "        # decoding word in range of number of words in input sentence\n",
        "        for di in range(max_length):\n",
        "            decoder_output, decoder_hidden, decoder_attention = decoder(decoder_input, decoder_hidden, encoder_outputs)\n",
        "            #take top output I have passed 1 for output. Returns the k largest elements of the given input tensor along a given dimension.\n",
        "\n",
        "            topv, topi = decoder_output.data.topk(1)\n",
        "            #check EOS or not.\n",
        "            if topi.item() == 1:\n",
        "                decoded_words.append(\"EOS\")\n",
        "                break\n",
        "            else:\n",
        "                decoded_words.append(en_index2word[topi.item()])\n",
        "            #  Detaching a tensor removes it from the computational graph so no longer need of tracking gradient.\n",
        "            decoder_input = topi.squeeze().detach()\n",
        "\n",
        "        return decoded_words"
      ],
      "execution_count": null,
      "outputs": []
    },
    {
      "cell_type": "markdown",
      "metadata": {
        "id": "5roytWaTDIVi"
      },
      "source": [
        "#***Importing Test Data And Generating Output***"
      ]
    },
    {
      "cell_type": "code",
      "metadata": {
        "id": "TnIfN1W9C7vx"
      },
      "source": [
        "test_data = []\n",
        "with open('./drive/MyDrive/MT_HtoE/testhindistatements.csv', 'r') as file:\n",
        "  test_data = np.array([[row[2],''] for row in csv.reader(file)])[1::]"
      ],
      "execution_count": null,
      "outputs": []
    },
    {
      "cell_type": "code",
      "metadata": {
        "colab": {
          "base_uri": "https://localhost:8080/"
        },
        "id": "jXmj2Y2Q6Its",
        "outputId": "0356f50d-74cc-4c47-e042-2391895f871b"
      },
      "source": [
        "print(test_data[0])"
      ],
      "execution_count": null,
      "outputs": [
        {
          "output_type": "stream",
          "text": [
            "['(तालियां) अब, इसने मेरे मन को उड़ा दिया।' '']\n"
          ],
          "name": "stdout"
        }
      ]
    },
    {
      "cell_type": "code",
      "metadata": {
        "id": "3cGOtAUeDCrI",
        "colab": {
          "base_uri": "https://localhost:8080/"
        },
        "outputId": "4027fc00-ace7-49ba-dbd5-78e058f903ce"
      },
      "source": [
        "output_sents = []\n",
        "with open('./drive/MyDrive/answer.txt', 'w') as f:\n",
        "  i=0\n",
        "  for line in test_data:\n",
        "    if i==5:\n",
        "      break\n",
        "    t = translate(enc, dec, line[0], max(hi_max, en_max) + 3)\n",
        "    # code  for \n",
        "    t=\"\".join([\" \"+i if not i.startswith(\"'\") and i not in string.punctuation else i for i in t]).strip()\n",
        "    t=t.replace(\"SOS\",\"\")\n",
        "    t=t.replace(\"EOS\",\"\")\n",
        "    t=t.replace(\"PAD\",\"\")\n",
        "    print(t)\n",
        "    #f.write(t)\n",
        "    #f.write(\"\\n\")\n",
        "    i+=1\n",
        "f.close()"
      ],
      "execution_count": null,
      "outputs": [
        {
          "output_type": "stream",
          "text": [
            "( Applause),,,,,,... \n",
            " But you're not.... \n",
            " The is is is. the...... \n",
            " Please listen to me. \n",
            " No, you ca n't do you. \n"
          ],
          "name": "stdout"
        }
      ]
    },
    {
      "cell_type": "code",
      "metadata": {
        "id": "QBYzZiv9cfBq"
      },
      "source": [
        ""
      ],
      "execution_count": null,
      "outputs": []
    }
  ]
}